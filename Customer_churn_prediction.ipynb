{
 "cells": [
  {
   "cell_type": "markdown",
   "id": "d8a669db",
   "metadata": {},
   "source": [
    "# Project description"
   ]
  },
  {
   "cell_type": "markdown",
   "id": "0f5a5b94",
   "metadata": {},
   "source": [
    "Project name: Customer churn prediction"
   ]
  },
  {
   "cell_type": "markdown",
   "id": "0b8576f2",
   "metadata": {},
   "source": [
    "Project tasks: Conduct an exploratory analysis, build a predictive churn model to identify and retain customers through special offers."
   ]
  },
  {
   "cell_type": "markdown",
   "id": "8a660ad2",
   "metadata": {},
   "source": [
    "# Data download"
   ]
  },
  {
   "cell_type": "code",
   "execution_count": 1,
   "id": "13dc752f",
   "metadata": {},
   "outputs": [],
   "source": [
    "import pandas as pd\n",
    "import numpy as np\n",
    "from matplotlib import pyplot\n",
    "import seaborn as sns\n",
    "\n",
    "from sklearn.preprocessing import StandardScaler, OrdinalEncoder\n",
    "from sklearn.model_selection import train_test_split, cross_val_score\n",
    "from sklearn.linear_model import LogisticRegression\n",
    "from sklearn.metrics import roc_auc_score, accuracy_score, roc_curve, classification_report, plot_confusion_matrix\n",
    "from sklearn.utils import shuffle\n",
    "from sklearn.model_selection import TimeSeriesSplit\n",
    "from sklearn.model_selection import GridSearchCV\n",
    "\n",
    "import lightgbm\n",
    "import xgboost\n",
    "from sklearn.ensemble import RandomForestClassifier\n",
    "from sklearn.linear_model import LinearRegression\n",
    "from tensorflow import keras\n",
    "\n",
    "#from hyperopt import fmin, tpe, hp, space_eval"
   ]
  },
  {
   "cell_type": "code",
   "execution_count": 2,
   "id": "476b5a04",
   "metadata": {},
   "outputs": [],
   "source": [
    "contract = pd.read_csv('contract.csv')\n",
    "internet = pd.read_csv('internet.csv')\n",
    "personal = pd.read_csv('personal.csv')\n",
    "phone = pd.read_csv('phone.csv')"
   ]
  },
  {
   "cell_type": "markdown",
   "id": "36dd9be5",
   "metadata": {},
   "source": [
    "All required data downloaded."
   ]
  },
  {
   "cell_type": "markdown",
   "id": "705d4457",
   "metadata": {},
   "source": [
    "# Preprocessing"
   ]
  },
  {
   "cell_type": "code",
   "execution_count": 3,
   "id": "744ad23d",
   "metadata": {},
   "outputs": [
    {
     "data": {
      "text/html": [
       "<div>\n",
       "<style scoped>\n",
       "    .dataframe tbody tr th:only-of-type {\n",
       "        vertical-align: middle;\n",
       "    }\n",
       "\n",
       "    .dataframe tbody tr th {\n",
       "        vertical-align: top;\n",
       "    }\n",
       "\n",
       "    .dataframe thead th {\n",
       "        text-align: right;\n",
       "    }\n",
       "</style>\n",
       "<table border=\"1\" class=\"dataframe\">\n",
       "  <thead>\n",
       "    <tr style=\"text-align: right;\">\n",
       "      <th></th>\n",
       "      <th>customerID</th>\n",
       "      <th>BeginDate</th>\n",
       "      <th>EndDate</th>\n",
       "      <th>Type</th>\n",
       "      <th>PaperlessBilling</th>\n",
       "      <th>PaymentMethod</th>\n",
       "      <th>MonthlyCharges</th>\n",
       "      <th>TotalCharges</th>\n",
       "    </tr>\n",
       "  </thead>\n",
       "  <tbody>\n",
       "    <tr>\n",
       "      <th>0</th>\n",
       "      <td>7590-VHVEG</td>\n",
       "      <td>2020-01-01</td>\n",
       "      <td>No</td>\n",
       "      <td>Month-to-month</td>\n",
       "      <td>Yes</td>\n",
       "      <td>Electronic check</td>\n",
       "      <td>29.85</td>\n",
       "      <td>29.85</td>\n",
       "    </tr>\n",
       "    <tr>\n",
       "      <th>1</th>\n",
       "      <td>5575-GNVDE</td>\n",
       "      <td>2017-04-01</td>\n",
       "      <td>No</td>\n",
       "      <td>One year</td>\n",
       "      <td>No</td>\n",
       "      <td>Mailed check</td>\n",
       "      <td>56.95</td>\n",
       "      <td>1889.5</td>\n",
       "    </tr>\n",
       "    <tr>\n",
       "      <th>2</th>\n",
       "      <td>3668-QPYBK</td>\n",
       "      <td>2019-10-01</td>\n",
       "      <td>2019-12-01 00:00:00</td>\n",
       "      <td>Month-to-month</td>\n",
       "      <td>Yes</td>\n",
       "      <td>Mailed check</td>\n",
       "      <td>53.85</td>\n",
       "      <td>108.15</td>\n",
       "    </tr>\n",
       "    <tr>\n",
       "      <th>3</th>\n",
       "      <td>7795-CFOCW</td>\n",
       "      <td>2016-05-01</td>\n",
       "      <td>No</td>\n",
       "      <td>One year</td>\n",
       "      <td>No</td>\n",
       "      <td>Bank transfer (automatic)</td>\n",
       "      <td>42.30</td>\n",
       "      <td>1840.75</td>\n",
       "    </tr>\n",
       "    <tr>\n",
       "      <th>4</th>\n",
       "      <td>9237-HQITU</td>\n",
       "      <td>2019-09-01</td>\n",
       "      <td>2019-11-01 00:00:00</td>\n",
       "      <td>Month-to-month</td>\n",
       "      <td>Yes</td>\n",
       "      <td>Electronic check</td>\n",
       "      <td>70.70</td>\n",
       "      <td>151.65</td>\n",
       "    </tr>\n",
       "  </tbody>\n",
       "</table>\n",
       "</div>"
      ],
      "text/plain": [
       "   customerID   BeginDate              EndDate            Type  \\\n",
       "0  7590-VHVEG  2020-01-01                   No  Month-to-month   \n",
       "1  5575-GNVDE  2017-04-01                   No        One year   \n",
       "2  3668-QPYBK  2019-10-01  2019-12-01 00:00:00  Month-to-month   \n",
       "3  7795-CFOCW  2016-05-01                   No        One year   \n",
       "4  9237-HQITU  2019-09-01  2019-11-01 00:00:00  Month-to-month   \n",
       "\n",
       "  PaperlessBilling              PaymentMethod  MonthlyCharges TotalCharges  \n",
       "0              Yes           Electronic check           29.85        29.85  \n",
       "1               No               Mailed check           56.95       1889.5  \n",
       "2              Yes               Mailed check           53.85       108.15  \n",
       "3               No  Bank transfer (automatic)           42.30      1840.75  \n",
       "4              Yes           Electronic check           70.70       151.65  "
      ]
     },
     "execution_count": 3,
     "metadata": {},
     "output_type": "execute_result"
    }
   ],
   "source": [
    "contract.head(5)"
   ]
  },
  {
   "cell_type": "code",
   "execution_count": 4,
   "id": "46a68a5c",
   "metadata": {},
   "outputs": [
    {
     "name": "stdout",
     "output_type": "stream",
     "text": [
      "<class 'pandas.core.frame.DataFrame'>\n",
      "RangeIndex: 7043 entries, 0 to 7042\n",
      "Data columns (total 8 columns):\n",
      " #   Column            Non-Null Count  Dtype  \n",
      "---  ------            --------------  -----  \n",
      " 0   customerID        7043 non-null   object \n",
      " 1   BeginDate         7043 non-null   object \n",
      " 2   EndDate           7043 non-null   object \n",
      " 3   Type              7043 non-null   object \n",
      " 4   PaperlessBilling  7043 non-null   object \n",
      " 5   PaymentMethod     7043 non-null   object \n",
      " 6   MonthlyCharges    7043 non-null   float64\n",
      " 7   TotalCharges      7043 non-null   object \n",
      "dtypes: float64(1), object(7)\n",
      "memory usage: 440.3+ KB\n"
     ]
    }
   ],
   "source": [
    "contract.info()"
   ]
  },
  {
   "cell_type": "markdown",
   "id": "b74deb3b",
   "metadata": {},
   "source": [
    "There are no gaps in the downloaded dataset. I will change the formats of some columns, in particular BeginDate (to date), TotalCharges (to float64). "
   ]
  },
  {
   "cell_type": "code",
   "execution_count": 5,
   "id": "cfbd1afe",
   "metadata": {},
   "outputs": [],
   "source": [
    "contract['BeginDate'] = pd.to_datetime(contract['BeginDate'], format='%Y-%m-%d')"
   ]
  },
  {
   "cell_type": "code",
   "execution_count": 6,
   "id": "79f1ce18",
   "metadata": {},
   "outputs": [],
   "source": [
    "contract.loc[contract['TotalCharges'] == ' ', 'TotalCharges'] = 0\n",
    "#Заменил пропуски на 0, что бы можно было перевести во float\n",
    "contract['TotalCharges'] = contract['TotalCharges'].astype('float64')"
   ]
  },
  {
   "cell_type": "code",
   "execution_count": 7,
   "id": "402cb10d",
   "metadata": {},
   "outputs": [],
   "source": [
    "contract['target'] = contract['EndDate'].apply(lambda x: 0 if x=='No' else 1)"
   ]
  },
  {
   "cell_type": "code",
   "execution_count": 8,
   "id": "31ed3e2a",
   "metadata": {},
   "outputs": [
    {
     "data": {
      "text/html": [
       "<div>\n",
       "<style scoped>\n",
       "    .dataframe tbody tr th:only-of-type {\n",
       "        vertical-align: middle;\n",
       "    }\n",
       "\n",
       "    .dataframe tbody tr th {\n",
       "        vertical-align: top;\n",
       "    }\n",
       "\n",
       "    .dataframe thead th {\n",
       "        text-align: right;\n",
       "    }\n",
       "</style>\n",
       "<table border=\"1\" class=\"dataframe\">\n",
       "  <thead>\n",
       "    <tr style=\"text-align: right;\">\n",
       "      <th></th>\n",
       "      <th>customerID</th>\n",
       "      <th>InternetService</th>\n",
       "      <th>OnlineSecurity</th>\n",
       "      <th>OnlineBackup</th>\n",
       "      <th>DeviceProtection</th>\n",
       "      <th>TechSupport</th>\n",
       "      <th>StreamingTV</th>\n",
       "      <th>StreamingMovies</th>\n",
       "    </tr>\n",
       "  </thead>\n",
       "  <tbody>\n",
       "    <tr>\n",
       "      <th>0</th>\n",
       "      <td>7590-VHVEG</td>\n",
       "      <td>DSL</td>\n",
       "      <td>No</td>\n",
       "      <td>Yes</td>\n",
       "      <td>No</td>\n",
       "      <td>No</td>\n",
       "      <td>No</td>\n",
       "      <td>No</td>\n",
       "    </tr>\n",
       "    <tr>\n",
       "      <th>1</th>\n",
       "      <td>5575-GNVDE</td>\n",
       "      <td>DSL</td>\n",
       "      <td>Yes</td>\n",
       "      <td>No</td>\n",
       "      <td>Yes</td>\n",
       "      <td>No</td>\n",
       "      <td>No</td>\n",
       "      <td>No</td>\n",
       "    </tr>\n",
       "    <tr>\n",
       "      <th>2</th>\n",
       "      <td>3668-QPYBK</td>\n",
       "      <td>DSL</td>\n",
       "      <td>Yes</td>\n",
       "      <td>Yes</td>\n",
       "      <td>No</td>\n",
       "      <td>No</td>\n",
       "      <td>No</td>\n",
       "      <td>No</td>\n",
       "    </tr>\n",
       "    <tr>\n",
       "      <th>3</th>\n",
       "      <td>7795-CFOCW</td>\n",
       "      <td>DSL</td>\n",
       "      <td>Yes</td>\n",
       "      <td>No</td>\n",
       "      <td>Yes</td>\n",
       "      <td>Yes</td>\n",
       "      <td>No</td>\n",
       "      <td>No</td>\n",
       "    </tr>\n",
       "    <tr>\n",
       "      <th>4</th>\n",
       "      <td>9237-HQITU</td>\n",
       "      <td>Fiber optic</td>\n",
       "      <td>No</td>\n",
       "      <td>No</td>\n",
       "      <td>No</td>\n",
       "      <td>No</td>\n",
       "      <td>No</td>\n",
       "      <td>No</td>\n",
       "    </tr>\n",
       "  </tbody>\n",
       "</table>\n",
       "</div>"
      ],
      "text/plain": [
       "   customerID InternetService OnlineSecurity OnlineBackup DeviceProtection  \\\n",
       "0  7590-VHVEG             DSL             No          Yes               No   \n",
       "1  5575-GNVDE             DSL            Yes           No              Yes   \n",
       "2  3668-QPYBK             DSL            Yes          Yes               No   \n",
       "3  7795-CFOCW             DSL            Yes           No              Yes   \n",
       "4  9237-HQITU     Fiber optic             No           No               No   \n",
       "\n",
       "  TechSupport StreamingTV StreamingMovies  \n",
       "0          No          No              No  \n",
       "1          No          No              No  \n",
       "2          No          No              No  \n",
       "3         Yes          No              No  \n",
       "4          No          No              No  "
      ]
     },
     "execution_count": 8,
     "metadata": {},
     "output_type": "execute_result"
    }
   ],
   "source": [
    "internet.head(5)"
   ]
  },
  {
   "cell_type": "code",
   "execution_count": 9,
   "id": "9d056edc",
   "metadata": {},
   "outputs": [
    {
     "name": "stdout",
     "output_type": "stream",
     "text": [
      "<class 'pandas.core.frame.DataFrame'>\n",
      "RangeIndex: 5517 entries, 0 to 5516\n",
      "Data columns (total 8 columns):\n",
      " #   Column            Non-Null Count  Dtype \n",
      "---  ------            --------------  ----- \n",
      " 0   customerID        5517 non-null   object\n",
      " 1   InternetService   5517 non-null   object\n",
      " 2   OnlineSecurity    5517 non-null   object\n",
      " 3   OnlineBackup      5517 non-null   object\n",
      " 4   DeviceProtection  5517 non-null   object\n",
      " 5   TechSupport       5517 non-null   object\n",
      " 6   StreamingTV       5517 non-null   object\n",
      " 7   StreamingMovies   5517 non-null   object\n",
      "dtypes: object(8)\n",
      "memory usage: 344.9+ KB\n"
     ]
    }
   ],
   "source": [
    "internet.info()"
   ]
  },
  {
   "cell_type": "code",
   "execution_count": 10,
   "id": "60274ff1",
   "metadata": {},
   "outputs": [
    {
     "data": {
      "text/html": [
       "<div>\n",
       "<style scoped>\n",
       "    .dataframe tbody tr th:only-of-type {\n",
       "        vertical-align: middle;\n",
       "    }\n",
       "\n",
       "    .dataframe tbody tr th {\n",
       "        vertical-align: top;\n",
       "    }\n",
       "\n",
       "    .dataframe thead th {\n",
       "        text-align: right;\n",
       "    }\n",
       "</style>\n",
       "<table border=\"1\" class=\"dataframe\">\n",
       "  <thead>\n",
       "    <tr style=\"text-align: right;\">\n",
       "      <th></th>\n",
       "      <th>customerID</th>\n",
       "      <th>gender</th>\n",
       "      <th>SeniorCitizen</th>\n",
       "      <th>Partner</th>\n",
       "      <th>Dependents</th>\n",
       "    </tr>\n",
       "  </thead>\n",
       "  <tbody>\n",
       "    <tr>\n",
       "      <th>0</th>\n",
       "      <td>7590-VHVEG</td>\n",
       "      <td>Female</td>\n",
       "      <td>0</td>\n",
       "      <td>Yes</td>\n",
       "      <td>No</td>\n",
       "    </tr>\n",
       "    <tr>\n",
       "      <th>1</th>\n",
       "      <td>5575-GNVDE</td>\n",
       "      <td>Male</td>\n",
       "      <td>0</td>\n",
       "      <td>No</td>\n",
       "      <td>No</td>\n",
       "    </tr>\n",
       "    <tr>\n",
       "      <th>2</th>\n",
       "      <td>3668-QPYBK</td>\n",
       "      <td>Male</td>\n",
       "      <td>0</td>\n",
       "      <td>No</td>\n",
       "      <td>No</td>\n",
       "    </tr>\n",
       "    <tr>\n",
       "      <th>3</th>\n",
       "      <td>7795-CFOCW</td>\n",
       "      <td>Male</td>\n",
       "      <td>0</td>\n",
       "      <td>No</td>\n",
       "      <td>No</td>\n",
       "    </tr>\n",
       "    <tr>\n",
       "      <th>4</th>\n",
       "      <td>9237-HQITU</td>\n",
       "      <td>Female</td>\n",
       "      <td>0</td>\n",
       "      <td>No</td>\n",
       "      <td>No</td>\n",
       "    </tr>\n",
       "  </tbody>\n",
       "</table>\n",
       "</div>"
      ],
      "text/plain": [
       "   customerID  gender  SeniorCitizen Partner Dependents\n",
       "0  7590-VHVEG  Female              0     Yes         No\n",
       "1  5575-GNVDE    Male              0      No         No\n",
       "2  3668-QPYBK    Male              0      No         No\n",
       "3  7795-CFOCW    Male              0      No         No\n",
       "4  9237-HQITU  Female              0      No         No"
      ]
     },
     "execution_count": 10,
     "metadata": {},
     "output_type": "execute_result"
    }
   ],
   "source": [
    "personal.head(5)"
   ]
  },
  {
   "cell_type": "code",
   "execution_count": 11,
   "id": "e9a17483",
   "metadata": {},
   "outputs": [
    {
     "name": "stdout",
     "output_type": "stream",
     "text": [
      "<class 'pandas.core.frame.DataFrame'>\n",
      "RangeIndex: 7043 entries, 0 to 7042\n",
      "Data columns (total 5 columns):\n",
      " #   Column         Non-Null Count  Dtype \n",
      "---  ------         --------------  ----- \n",
      " 0   customerID     7043 non-null   object\n",
      " 1   gender         7043 non-null   object\n",
      " 2   SeniorCitizen  7043 non-null   int64 \n",
      " 3   Partner        7043 non-null   object\n",
      " 4   Dependents     7043 non-null   object\n",
      "dtypes: int64(1), object(4)\n",
      "memory usage: 275.2+ KB\n"
     ]
    }
   ],
   "source": [
    "personal.info()"
   ]
  },
  {
   "cell_type": "code",
   "execution_count": 12,
   "id": "ab345063",
   "metadata": {},
   "outputs": [
    {
     "data": {
      "text/html": [
       "<div>\n",
       "<style scoped>\n",
       "    .dataframe tbody tr th:only-of-type {\n",
       "        vertical-align: middle;\n",
       "    }\n",
       "\n",
       "    .dataframe tbody tr th {\n",
       "        vertical-align: top;\n",
       "    }\n",
       "\n",
       "    .dataframe thead th {\n",
       "        text-align: right;\n",
       "    }\n",
       "</style>\n",
       "<table border=\"1\" class=\"dataframe\">\n",
       "  <thead>\n",
       "    <tr style=\"text-align: right;\">\n",
       "      <th></th>\n",
       "      <th>customerID</th>\n",
       "      <th>MultipleLines</th>\n",
       "    </tr>\n",
       "  </thead>\n",
       "  <tbody>\n",
       "    <tr>\n",
       "      <th>0</th>\n",
       "      <td>5575-GNVDE</td>\n",
       "      <td>No</td>\n",
       "    </tr>\n",
       "    <tr>\n",
       "      <th>1</th>\n",
       "      <td>3668-QPYBK</td>\n",
       "      <td>No</td>\n",
       "    </tr>\n",
       "    <tr>\n",
       "      <th>2</th>\n",
       "      <td>9237-HQITU</td>\n",
       "      <td>No</td>\n",
       "    </tr>\n",
       "    <tr>\n",
       "      <th>3</th>\n",
       "      <td>9305-CDSKC</td>\n",
       "      <td>Yes</td>\n",
       "    </tr>\n",
       "    <tr>\n",
       "      <th>4</th>\n",
       "      <td>1452-KIOVK</td>\n",
       "      <td>Yes</td>\n",
       "    </tr>\n",
       "  </tbody>\n",
       "</table>\n",
       "</div>"
      ],
      "text/plain": [
       "   customerID MultipleLines\n",
       "0  5575-GNVDE            No\n",
       "1  3668-QPYBK            No\n",
       "2  9237-HQITU            No\n",
       "3  9305-CDSKC           Yes\n",
       "4  1452-KIOVK           Yes"
      ]
     },
     "execution_count": 12,
     "metadata": {},
     "output_type": "execute_result"
    }
   ],
   "source": [
    "phone.head(5)"
   ]
  },
  {
   "cell_type": "code",
   "execution_count": 13,
   "id": "bb0cd621",
   "metadata": {},
   "outputs": [
    {
     "name": "stdout",
     "output_type": "stream",
     "text": [
      "<class 'pandas.core.frame.DataFrame'>\n",
      "RangeIndex: 6361 entries, 0 to 6360\n",
      "Data columns (total 2 columns):\n",
      " #   Column         Non-Null Count  Dtype \n",
      "---  ------         --------------  ----- \n",
      " 0   customerID     6361 non-null   object\n",
      " 1   MultipleLines  6361 non-null   object\n",
      "dtypes: object(2)\n",
      "memory usage: 99.5+ KB\n"
     ]
    }
   ],
   "source": [
    "phone.info()"
   ]
  },
  {
   "cell_type": "markdown",
   "id": "519636b8",
   "metadata": {},
   "source": [
    "There are no gaps in the last three tables, the formats are correct. "
   ]
  },
  {
   "cell_type": "markdown",
   "id": "595bb2ad",
   "metadata": {},
   "source": [
    "For convenience, I will make CustomerID an index."
   ]
  },
  {
   "cell_type": "code",
   "execution_count": 14,
   "id": "523ba28a",
   "metadata": {},
   "outputs": [],
   "source": [
    "contract = contract.set_index('customerID')\n",
    "personal = personal.set_index('customerID')\n",
    "phone = phone.set_index('customerID')\n",
    "internet = internet.set_index('customerID')"
   ]
  },
  {
   "cell_type": "markdown",
   "id": "b9f4463f",
   "metadata": {},
   "source": [
    "Joining datasets."
   ]
  },
  {
   "cell_type": "code",
   "execution_count": 15,
   "id": "0de9736f",
   "metadata": {},
   "outputs": [],
   "source": [
    "telecom = contract.join([internet, personal, phone])"
   ]
  },
  {
   "cell_type": "code",
   "execution_count": 16,
   "id": "99add638",
   "metadata": {},
   "outputs": [
    {
     "name": "stdout",
     "output_type": "stream",
     "text": [
      "<class 'pandas.core.frame.DataFrame'>\n",
      "Index: 7043 entries, 7590-VHVEG to 3186-AJIEK\n",
      "Data columns (total 20 columns):\n",
      " #   Column            Non-Null Count  Dtype         \n",
      "---  ------            --------------  -----         \n",
      " 0   BeginDate         7043 non-null   datetime64[ns]\n",
      " 1   EndDate           7043 non-null   object        \n",
      " 2   Type              7043 non-null   object        \n",
      " 3   PaperlessBilling  7043 non-null   object        \n",
      " 4   PaymentMethod     7043 non-null   object        \n",
      " 5   MonthlyCharges    7043 non-null   float64       \n",
      " 6   TotalCharges      7043 non-null   float64       \n",
      " 7   target            7043 non-null   int64         \n",
      " 8   InternetService   5517 non-null   object        \n",
      " 9   OnlineSecurity    5517 non-null   object        \n",
      " 10  OnlineBackup      5517 non-null   object        \n",
      " 11  DeviceProtection  5517 non-null   object        \n",
      " 12  TechSupport       5517 non-null   object        \n",
      " 13  StreamingTV       5517 non-null   object        \n",
      " 14  StreamingMovies   5517 non-null   object        \n",
      " 15  gender            7043 non-null   object        \n",
      " 16  SeniorCitizen     7043 non-null   int64         \n",
      " 17  Partner           7043 non-null   object        \n",
      " 18  Dependents        7043 non-null   object        \n",
      " 19  MultipleLines     6361 non-null   object        \n",
      "dtypes: datetime64[ns](1), float64(2), int64(2), object(15)\n",
      "memory usage: 1.1+ MB\n"
     ]
    }
   ],
   "source": [
    "telecom.info()"
   ]
  },
  {
   "cell_type": "markdown",
   "id": "62611e30",
   "metadata": {},
   "source": [
    "As you can see, many lines are left empty, this is due to the fact that some customers use only one service. I'll fill in the blanks."
   ]
  },
  {
   "cell_type": "code",
   "execution_count": 17,
   "id": "220d342f",
   "metadata": {},
   "outputs": [],
   "source": [
    "telecom = telecom.fillna('NoData')"
   ]
  },
  {
   "cell_type": "markdown",
   "id": "38fe3e27",
   "metadata": {},
   "source": [
    "I will add a couple of features that will be useful for exploratory analysis."
   ]
  },
  {
   "cell_type": "markdown",
   "id": "3105e7c4",
   "metadata": {},
   "source": [
    "I'll start with the total number of months of using the services."
   ]
  },
  {
   "cell_type": "code",
   "execution_count": 18,
   "id": "a9ccf60d",
   "metadata": {},
   "outputs": [
    {
     "data": {
      "text/plain": [
       "No                     5174\n",
       "2019-11-01 00:00:00     485\n",
       "2019-12-01 00:00:00     466\n",
       "2020-01-01 00:00:00     460\n",
       "2019-10-01 00:00:00     458\n",
       "Name: EndDate, dtype: int64"
      ]
     },
     "execution_count": 18,
     "metadata": {},
     "output_type": "execute_result"
    }
   ],
   "source": [
    "telecom['EndDate'].value_counts()"
   ]
  },
  {
   "cell_type": "code",
   "execution_count": 19,
   "id": "9ff08775",
   "metadata": {},
   "outputs": [],
   "source": [
    "telecom['EndDate2'] = telecom['EndDate'].apply(lambda x: '2020-02-01' if x=='No' else x) #информация актуальна на 2 февраля 2020\n",
    "telecom['EndDate2'] = pd.to_datetime(telecom['EndDate2'])\n",
    "telecom['TotalMonths'] = round((telecom['EndDate2'] - telecom['BeginDate'])/np.timedelta64(1, 'M'), 0)\n",
    "telecom = telecom.drop(['EndDate2'], axis=1)"
   ]
  },
  {
   "cell_type": "markdown",
   "id": "f2677eff",
   "metadata": {},
   "source": [
    "Now I will group the data by MonthlyCharges."
   ]
  },
  {
   "cell_type": "code",
   "execution_count": 20,
   "id": "4a131eaa",
   "metadata": {},
   "outputs": [
    {
     "data": {
      "text/plain": [
       "count    7043.000000\n",
       "mean       64.761692\n",
       "std        30.090047\n",
       "min        18.250000\n",
       "25%        35.500000\n",
       "50%        70.350000\n",
       "75%        89.850000\n",
       "max       118.750000\n",
       "Name: MonthlyCharges, dtype: float64"
      ]
     },
     "execution_count": 20,
     "metadata": {},
     "output_type": "execute_result"
    }
   ],
   "source": [
    "telecom['MonthlyCharges'].describe()"
   ]
  },
  {
   "cell_type": "code",
   "execution_count": 21,
   "id": "571e2c68",
   "metadata": {},
   "outputs": [],
   "source": [
    "def monthly_charges_group (x):\n",
    "    if x <= 20:\n",
    "        return 1\n",
    "    elif x <= 40:\n",
    "        return 2\n",
    "    elif x <= 60:\n",
    "        return 3\n",
    "    elif x <= 80:\n",
    "        return 4\n",
    "    elif x <= 100:\n",
    "        return 5\n",
    "    else:\n",
    "        return 6"
   ]
  },
  {
   "cell_type": "code",
   "execution_count": 22,
   "id": "efaa55fd",
   "metadata": {},
   "outputs": [],
   "source": [
    "telecom['MCH_group'] = telecom['MonthlyCharges'].apply(monthly_charges_group)"
   ]
  },
  {
   "cell_type": "code",
   "execution_count": 23,
   "id": "c728ce1a",
   "metadata": {},
   "outputs": [
    {
     "data": {
      "text/plain": [
       "5    1764\n",
       "4    1459\n",
       "2    1182\n",
       "3    1080\n",
       "6     902\n",
       "1     656\n",
       "Name: MCH_group, dtype: int64"
      ]
     },
     "execution_count": 23,
     "metadata": {},
     "output_type": "execute_result"
    }
   ],
   "source": [
    "telecom['MCH_group'].value_counts()"
   ]
  },
  {
   "cell_type": "markdown",
   "id": "58d9c54e",
   "metadata": {},
   "source": [
    "Now TotalCharges"
   ]
  },
  {
   "cell_type": "code",
   "execution_count": 24,
   "id": "db8b29ca",
   "metadata": {},
   "outputs": [
    {
     "data": {
      "text/plain": [
       "count    7043.000000\n",
       "mean     2279.734304\n",
       "std      2266.794470\n",
       "min         0.000000\n",
       "25%       398.550000\n",
       "50%      1394.550000\n",
       "75%      3786.600000\n",
       "max      8684.800000\n",
       "Name: TotalCharges, dtype: float64"
      ]
     },
     "execution_count": 24,
     "metadata": {},
     "output_type": "execute_result"
    }
   ],
   "source": [
    "telecom['TotalCharges'].describe()"
   ]
  },
  {
   "cell_type": "code",
   "execution_count": 25,
   "id": "a52464da",
   "metadata": {},
   "outputs": [],
   "source": [
    "def total_charges_group (x):\n",
    "    if x <= 400:\n",
    "        return 1\n",
    "    elif 400 <= x <= 1400:\n",
    "        return 2\n",
    "    elif 1400 <= x <= 3800:\n",
    "        return 3\n",
    "    else:\n",
    "        return 4"
   ]
  },
  {
   "cell_type": "code",
   "execution_count": 26,
   "id": "c36fa7cc",
   "metadata": {},
   "outputs": [],
   "source": [
    "telecom['TCH_group'] = telecom['TotalCharges'].apply(total_charges_group)"
   ]
  },
  {
   "cell_type": "markdown",
   "id": "d84536bf",
   "metadata": {},
   "source": [
    "I also group users by the number of connected additional services."
   ]
  },
  {
   "cell_type": "code",
   "execution_count": 27,
   "id": "18fcb19b",
   "metadata": {},
   "outputs": [],
   "source": [
    "def services_amount_group (row):\n",
    "    count = 0\n",
    "    if row['InternetService'] != 'No' and row['InternetService'] != 'NoData':\n",
    "        count += 1\n",
    "    if row['OnlineSecurity'] == 'Yes':\n",
    "        count += 1\n",
    "    if row['OnlineBackup'] == 'Yes':\n",
    "        count += 1\n",
    "    if row['DeviceProtection'] == 'Yes':\n",
    "        count += 1\n",
    "    if row['TechSupport'] == 'Yes':\n",
    "        count += 1\n",
    "    if row['StreamingTV'] == 'Yes':\n",
    "        count += 1\n",
    "    if row['StreamingMovies'] == 'Yes':\n",
    "        count += 1\n",
    "    if row['MultipleLines'] == 'Yes':\n",
    "        count += 1\n",
    "    return count"
   ]
  },
  {
   "cell_type": "code",
   "execution_count": 28,
   "id": "22249e12",
   "metadata": {},
   "outputs": [],
   "source": [
    "telecom['SA_group'] = telecom.apply(services_amount_group, axis=1).astype('float64')"
   ]
  },
  {
   "cell_type": "code",
   "execution_count": 29,
   "id": "0aaccde4",
   "metadata": {},
   "outputs": [
    {
     "data": {
      "text/plain": [
       "0.0    1184\n",
       "4.0     978\n",
       "3.0     957\n",
       "5.0     933\n",
       "1.0     825\n",
       "2.0     816\n",
       "6.0     722\n",
       "7.0     420\n",
       "8.0     208\n",
       "Name: SA_group, dtype: int64"
      ]
     },
     "execution_count": 29,
     "metadata": {},
     "output_type": "execute_result"
    }
   ],
   "source": [
    "telecom['SA_group'].value_counts()"
   ]
  },
  {
   "cell_type": "markdown",
   "id": "1832dd58",
   "metadata": {},
   "source": [
    "# Exploratory data analysis"
   ]
  },
  {
   "cell_type": "markdown",
   "id": "95d19d3f",
   "metadata": {},
   "source": [
    "First, let's take a closer look at the customers who left."
   ]
  },
  {
   "cell_type": "code",
   "execution_count": 30,
   "id": "2bfeb7fb",
   "metadata": {},
   "outputs": [
    {
     "data": {
      "text/plain": [
       "0.2653698707936959"
      ]
     },
     "execution_count": 30,
     "metadata": {},
     "output_type": "execute_result"
    }
   ],
   "source": [
    "len(contract.query('EndDate != \"No\"'))/7043"
   ]
  },
  {
   "cell_type": "markdown",
   "id": "b41c52f4",
   "metadata": {},
   "source": [
    "26.5% of the dataset are former clients. I will add a target column where 1 client left 0 no."
   ]
  },
  {
   "cell_type": "code",
   "execution_count": 31,
   "id": "27d9011d",
   "metadata": {},
   "outputs": [],
   "source": [
    "telecom_leavers = telecom.query('target == 1')"
   ]
  },
  {
   "cell_type": "code",
   "execution_count": 32,
   "id": "200efc09",
   "metadata": {
    "scrolled": true
   },
   "outputs": [
    {
     "data": {
      "text/html": [
       "<div>\n",
       "<style scoped>\n",
       "    .dataframe tbody tr th:only-of-type {\n",
       "        vertical-align: middle;\n",
       "    }\n",
       "\n",
       "    .dataframe tbody tr th {\n",
       "        vertical-align: top;\n",
       "    }\n",
       "\n",
       "    .dataframe thead th {\n",
       "        text-align: right;\n",
       "    }\n",
       "</style>\n",
       "<table border=\"1\" class=\"dataframe\">\n",
       "  <thead>\n",
       "    <tr style=\"text-align: right;\">\n",
       "      <th></th>\n",
       "      <th>BeginDate</th>\n",
       "      <th>EndDate</th>\n",
       "      <th>Type</th>\n",
       "      <th>PaperlessBilling</th>\n",
       "      <th>PaymentMethod</th>\n",
       "      <th>MonthlyCharges</th>\n",
       "      <th>TotalCharges</th>\n",
       "      <th>target</th>\n",
       "      <th>InternetService</th>\n",
       "      <th>OnlineSecurity</th>\n",
       "      <th>...</th>\n",
       "      <th>StreamingMovies</th>\n",
       "      <th>gender</th>\n",
       "      <th>SeniorCitizen</th>\n",
       "      <th>Partner</th>\n",
       "      <th>Dependents</th>\n",
       "      <th>MultipleLines</th>\n",
       "      <th>TotalMonths</th>\n",
       "      <th>MCH_group</th>\n",
       "      <th>TCH_group</th>\n",
       "      <th>SA_group</th>\n",
       "    </tr>\n",
       "    <tr>\n",
       "      <th>customerID</th>\n",
       "      <th></th>\n",
       "      <th></th>\n",
       "      <th></th>\n",
       "      <th></th>\n",
       "      <th></th>\n",
       "      <th></th>\n",
       "      <th></th>\n",
       "      <th></th>\n",
       "      <th></th>\n",
       "      <th></th>\n",
       "      <th></th>\n",
       "      <th></th>\n",
       "      <th></th>\n",
       "      <th></th>\n",
       "      <th></th>\n",
       "      <th></th>\n",
       "      <th></th>\n",
       "      <th></th>\n",
       "      <th></th>\n",
       "      <th></th>\n",
       "      <th></th>\n",
       "    </tr>\n",
       "  </thead>\n",
       "  <tbody>\n",
       "    <tr>\n",
       "      <th>3668-QPYBK</th>\n",
       "      <td>2019-10-01</td>\n",
       "      <td>2019-12-01 00:00:00</td>\n",
       "      <td>Month-to-month</td>\n",
       "      <td>Yes</td>\n",
       "      <td>Mailed check</td>\n",
       "      <td>53.85</td>\n",
       "      <td>108.15</td>\n",
       "      <td>1</td>\n",
       "      <td>DSL</td>\n",
       "      <td>Yes</td>\n",
       "      <td>...</td>\n",
       "      <td>No</td>\n",
       "      <td>Male</td>\n",
       "      <td>0</td>\n",
       "      <td>No</td>\n",
       "      <td>No</td>\n",
       "      <td>No</td>\n",
       "      <td>2.0</td>\n",
       "      <td>3</td>\n",
       "      <td>1</td>\n",
       "      <td>3.0</td>\n",
       "    </tr>\n",
       "    <tr>\n",
       "      <th>9237-HQITU</th>\n",
       "      <td>2019-09-01</td>\n",
       "      <td>2019-11-01 00:00:00</td>\n",
       "      <td>Month-to-month</td>\n",
       "      <td>Yes</td>\n",
       "      <td>Electronic check</td>\n",
       "      <td>70.70</td>\n",
       "      <td>151.65</td>\n",
       "      <td>1</td>\n",
       "      <td>Fiber optic</td>\n",
       "      <td>No</td>\n",
       "      <td>...</td>\n",
       "      <td>No</td>\n",
       "      <td>Female</td>\n",
       "      <td>0</td>\n",
       "      <td>No</td>\n",
       "      <td>No</td>\n",
       "      <td>No</td>\n",
       "      <td>2.0</td>\n",
       "      <td>4</td>\n",
       "      <td>1</td>\n",
       "      <td>1.0</td>\n",
       "    </tr>\n",
       "    <tr>\n",
       "      <th>9305-CDSKC</th>\n",
       "      <td>2019-03-01</td>\n",
       "      <td>2019-11-01 00:00:00</td>\n",
       "      <td>Month-to-month</td>\n",
       "      <td>Yes</td>\n",
       "      <td>Electronic check</td>\n",
       "      <td>99.65</td>\n",
       "      <td>820.50</td>\n",
       "      <td>1</td>\n",
       "      <td>Fiber optic</td>\n",
       "      <td>No</td>\n",
       "      <td>...</td>\n",
       "      <td>Yes</td>\n",
       "      <td>Female</td>\n",
       "      <td>0</td>\n",
       "      <td>No</td>\n",
       "      <td>No</td>\n",
       "      <td>Yes</td>\n",
       "      <td>8.0</td>\n",
       "      <td>5</td>\n",
       "      <td>2</td>\n",
       "      <td>5.0</td>\n",
       "    </tr>\n",
       "    <tr>\n",
       "      <th>7892-POOKP</th>\n",
       "      <td>2017-07-01</td>\n",
       "      <td>2019-11-01 00:00:00</td>\n",
       "      <td>Month-to-month</td>\n",
       "      <td>Yes</td>\n",
       "      <td>Electronic check</td>\n",
       "      <td>104.80</td>\n",
       "      <td>3046.05</td>\n",
       "      <td>1</td>\n",
       "      <td>Fiber optic</td>\n",
       "      <td>No</td>\n",
       "      <td>...</td>\n",
       "      <td>Yes</td>\n",
       "      <td>Female</td>\n",
       "      <td>0</td>\n",
       "      <td>Yes</td>\n",
       "      <td>No</td>\n",
       "      <td>Yes</td>\n",
       "      <td>28.0</td>\n",
       "      <td>6</td>\n",
       "      <td>3</td>\n",
       "      <td>6.0</td>\n",
       "    </tr>\n",
       "    <tr>\n",
       "      <th>0280-XJGEX</th>\n",
       "      <td>2015-09-01</td>\n",
       "      <td>2019-10-01 00:00:00</td>\n",
       "      <td>Month-to-month</td>\n",
       "      <td>Yes</td>\n",
       "      <td>Bank transfer (automatic)</td>\n",
       "      <td>103.70</td>\n",
       "      <td>5036.30</td>\n",
       "      <td>1</td>\n",
       "      <td>Fiber optic</td>\n",
       "      <td>No</td>\n",
       "      <td>...</td>\n",
       "      <td>Yes</td>\n",
       "      <td>Male</td>\n",
       "      <td>0</td>\n",
       "      <td>No</td>\n",
       "      <td>No</td>\n",
       "      <td>Yes</td>\n",
       "      <td>49.0</td>\n",
       "      <td>6</td>\n",
       "      <td>4</td>\n",
       "      <td>6.0</td>\n",
       "    </tr>\n",
       "    <tr>\n",
       "      <th>4190-MFLUW</th>\n",
       "      <td>2019-01-01</td>\n",
       "      <td>2019-11-01 00:00:00</td>\n",
       "      <td>Month-to-month</td>\n",
       "      <td>No</td>\n",
       "      <td>Credit card (automatic)</td>\n",
       "      <td>55.20</td>\n",
       "      <td>528.35</td>\n",
       "      <td>1</td>\n",
       "      <td>DSL</td>\n",
       "      <td>No</td>\n",
       "      <td>...</td>\n",
       "      <td>No</td>\n",
       "      <td>Female</td>\n",
       "      <td>0</td>\n",
       "      <td>Yes</td>\n",
       "      <td>Yes</td>\n",
       "      <td>No</td>\n",
       "      <td>10.0</td>\n",
       "      <td>3</td>\n",
       "      <td>2</td>\n",
       "      <td>3.0</td>\n",
       "    </tr>\n",
       "    <tr>\n",
       "      <th>8779-QRDMV</th>\n",
       "      <td>2019-11-01</td>\n",
       "      <td>2019-12-01 00:00:00</td>\n",
       "      <td>Month-to-month</td>\n",
       "      <td>Yes</td>\n",
       "      <td>Electronic check</td>\n",
       "      <td>39.65</td>\n",
       "      <td>39.65</td>\n",
       "      <td>1</td>\n",
       "      <td>DSL</td>\n",
       "      <td>No</td>\n",
       "      <td>...</td>\n",
       "      <td>Yes</td>\n",
       "      <td>Male</td>\n",
       "      <td>1</td>\n",
       "      <td>No</td>\n",
       "      <td>No</td>\n",
       "      <td>NoData</td>\n",
       "      <td>1.0</td>\n",
       "      <td>2</td>\n",
       "      <td>1</td>\n",
       "      <td>3.0</td>\n",
       "    </tr>\n",
       "    <tr>\n",
       "      <th>1066-JKSGK</th>\n",
       "      <td>2019-11-01</td>\n",
       "      <td>2019-12-01 00:00:00</td>\n",
       "      <td>Month-to-month</td>\n",
       "      <td>No</td>\n",
       "      <td>Mailed check</td>\n",
       "      <td>20.15</td>\n",
       "      <td>20.15</td>\n",
       "      <td>1</td>\n",
       "      <td>NoData</td>\n",
       "      <td>NoData</td>\n",
       "      <td>...</td>\n",
       "      <td>NoData</td>\n",
       "      <td>Male</td>\n",
       "      <td>0</td>\n",
       "      <td>No</td>\n",
       "      <td>No</td>\n",
       "      <td>No</td>\n",
       "      <td>1.0</td>\n",
       "      <td>2</td>\n",
       "      <td>1</td>\n",
       "      <td>0.0</td>\n",
       "    </tr>\n",
       "    <tr>\n",
       "      <th>6467-CHFZW</th>\n",
       "      <td>2015-12-01</td>\n",
       "      <td>2019-11-01 00:00:00</td>\n",
       "      <td>Month-to-month</td>\n",
       "      <td>Yes</td>\n",
       "      <td>Electronic check</td>\n",
       "      <td>99.35</td>\n",
       "      <td>4749.15</td>\n",
       "      <td>1</td>\n",
       "      <td>Fiber optic</td>\n",
       "      <td>No</td>\n",
       "      <td>...</td>\n",
       "      <td>Yes</td>\n",
       "      <td>Male</td>\n",
       "      <td>0</td>\n",
       "      <td>Yes</td>\n",
       "      <td>Yes</td>\n",
       "      <td>Yes</td>\n",
       "      <td>47.0</td>\n",
       "      <td>5</td>\n",
       "      <td>4</td>\n",
       "      <td>5.0</td>\n",
       "    </tr>\n",
       "    <tr>\n",
       "      <th>8665-UTDHZ</th>\n",
       "      <td>2019-11-01</td>\n",
       "      <td>2019-12-01 00:00:00</td>\n",
       "      <td>Month-to-month</td>\n",
       "      <td>No</td>\n",
       "      <td>Electronic check</td>\n",
       "      <td>30.20</td>\n",
       "      <td>30.20</td>\n",
       "      <td>1</td>\n",
       "      <td>DSL</td>\n",
       "      <td>No</td>\n",
       "      <td>...</td>\n",
       "      <td>No</td>\n",
       "      <td>Male</td>\n",
       "      <td>0</td>\n",
       "      <td>Yes</td>\n",
       "      <td>Yes</td>\n",
       "      <td>NoData</td>\n",
       "      <td>1.0</td>\n",
       "      <td>2</td>\n",
       "      <td>1</td>\n",
       "      <td>2.0</td>\n",
       "    </tr>\n",
       "    <tr>\n",
       "      <th>8773-HHUOZ</th>\n",
       "      <td>2018-06-01</td>\n",
       "      <td>2019-11-01 00:00:00</td>\n",
       "      <td>Month-to-month</td>\n",
       "      <td>Yes</td>\n",
       "      <td>Mailed check</td>\n",
       "      <td>64.70</td>\n",
       "      <td>1093.10</td>\n",
       "      <td>1</td>\n",
       "      <td>DSL</td>\n",
       "      <td>No</td>\n",
       "      <td>...</td>\n",
       "      <td>Yes</td>\n",
       "      <td>Female</td>\n",
       "      <td>0</td>\n",
       "      <td>No</td>\n",
       "      <td>Yes</td>\n",
       "      <td>No</td>\n",
       "      <td>17.0</td>\n",
       "      <td>4</td>\n",
       "      <td>2</td>\n",
       "      <td>3.0</td>\n",
       "    </tr>\n",
       "    <tr>\n",
       "      <th>6047-YHPVI</th>\n",
       "      <td>2019-06-01</td>\n",
       "      <td>2019-11-01 00:00:00</td>\n",
       "      <td>Month-to-month</td>\n",
       "      <td>Yes</td>\n",
       "      <td>Electronic check</td>\n",
       "      <td>69.70</td>\n",
       "      <td>316.90</td>\n",
       "      <td>1</td>\n",
       "      <td>Fiber optic</td>\n",
       "      <td>No</td>\n",
       "      <td>...</td>\n",
       "      <td>No</td>\n",
       "      <td>Male</td>\n",
       "      <td>0</td>\n",
       "      <td>No</td>\n",
       "      <td>No</td>\n",
       "      <td>No</td>\n",
       "      <td>5.0</td>\n",
       "      <td>4</td>\n",
       "      <td>1</td>\n",
       "      <td>1.0</td>\n",
       "    </tr>\n",
       "    <tr>\n",
       "      <th>5380-WJKOV</th>\n",
       "      <td>2017-02-01</td>\n",
       "      <td>2019-12-01 00:00:00</td>\n",
       "      <td>Month-to-month</td>\n",
       "      <td>Yes</td>\n",
       "      <td>Electronic check</td>\n",
       "      <td>106.35</td>\n",
       "      <td>3549.25</td>\n",
       "      <td>1</td>\n",
       "      <td>Fiber optic</td>\n",
       "      <td>No</td>\n",
       "      <td>...</td>\n",
       "      <td>Yes</td>\n",
       "      <td>Male</td>\n",
       "      <td>0</td>\n",
       "      <td>No</td>\n",
       "      <td>No</td>\n",
       "      <td>Yes</td>\n",
       "      <td>34.0</td>\n",
       "      <td>6</td>\n",
       "      <td>3</td>\n",
       "      <td>6.0</td>\n",
       "    </tr>\n",
       "    <tr>\n",
       "      <th>8168-UQWWF</th>\n",
       "      <td>2018-12-01</td>\n",
       "      <td>2019-11-01 00:00:00</td>\n",
       "      <td>Month-to-month</td>\n",
       "      <td>Yes</td>\n",
       "      <td>Bank transfer (automatic)</td>\n",
       "      <td>97.85</td>\n",
       "      <td>1105.40</td>\n",
       "      <td>1</td>\n",
       "      <td>Fiber optic</td>\n",
       "      <td>No</td>\n",
       "      <td>...</td>\n",
       "      <td>Yes</td>\n",
       "      <td>Female</td>\n",
       "      <td>0</td>\n",
       "      <td>No</td>\n",
       "      <td>No</td>\n",
       "      <td>Yes</td>\n",
       "      <td>11.0</td>\n",
       "      <td>5</td>\n",
       "      <td>2</td>\n",
       "      <td>5.0</td>\n",
       "    </tr>\n",
       "    <tr>\n",
       "      <th>7760-OYPDY</th>\n",
       "      <td>2019-11-01</td>\n",
       "      <td>2020-01-01 00:00:00</td>\n",
       "      <td>Month-to-month</td>\n",
       "      <td>Yes</td>\n",
       "      <td>Electronic check</td>\n",
       "      <td>80.65</td>\n",
       "      <td>144.15</td>\n",
       "      <td>1</td>\n",
       "      <td>Fiber optic</td>\n",
       "      <td>No</td>\n",
       "      <td>...</td>\n",
       "      <td>No</td>\n",
       "      <td>Female</td>\n",
       "      <td>0</td>\n",
       "      <td>No</td>\n",
       "      <td>No</td>\n",
       "      <td>No</td>\n",
       "      <td>2.0</td>\n",
       "      <td>5</td>\n",
       "      <td>1</td>\n",
       "      <td>2.0</td>\n",
       "    </tr>\n",
       "  </tbody>\n",
       "</table>\n",
       "<p>15 rows × 24 columns</p>\n",
       "</div>"
      ],
      "text/plain": [
       "            BeginDate              EndDate            Type PaperlessBilling  \\\n",
       "customerID                                                                    \n",
       "3668-QPYBK 2019-10-01  2019-12-01 00:00:00  Month-to-month              Yes   \n",
       "9237-HQITU 2019-09-01  2019-11-01 00:00:00  Month-to-month              Yes   \n",
       "9305-CDSKC 2019-03-01  2019-11-01 00:00:00  Month-to-month              Yes   \n",
       "7892-POOKP 2017-07-01  2019-11-01 00:00:00  Month-to-month              Yes   \n",
       "0280-XJGEX 2015-09-01  2019-10-01 00:00:00  Month-to-month              Yes   \n",
       "4190-MFLUW 2019-01-01  2019-11-01 00:00:00  Month-to-month               No   \n",
       "8779-QRDMV 2019-11-01  2019-12-01 00:00:00  Month-to-month              Yes   \n",
       "1066-JKSGK 2019-11-01  2019-12-01 00:00:00  Month-to-month               No   \n",
       "6467-CHFZW 2015-12-01  2019-11-01 00:00:00  Month-to-month              Yes   \n",
       "8665-UTDHZ 2019-11-01  2019-12-01 00:00:00  Month-to-month               No   \n",
       "8773-HHUOZ 2018-06-01  2019-11-01 00:00:00  Month-to-month              Yes   \n",
       "6047-YHPVI 2019-06-01  2019-11-01 00:00:00  Month-to-month              Yes   \n",
       "5380-WJKOV 2017-02-01  2019-12-01 00:00:00  Month-to-month              Yes   \n",
       "8168-UQWWF 2018-12-01  2019-11-01 00:00:00  Month-to-month              Yes   \n",
       "7760-OYPDY 2019-11-01  2020-01-01 00:00:00  Month-to-month              Yes   \n",
       "\n",
       "                        PaymentMethod  MonthlyCharges  TotalCharges  target  \\\n",
       "customerID                                                                    \n",
       "3668-QPYBK               Mailed check           53.85        108.15       1   \n",
       "9237-HQITU           Electronic check           70.70        151.65       1   \n",
       "9305-CDSKC           Electronic check           99.65        820.50       1   \n",
       "7892-POOKP           Electronic check          104.80       3046.05       1   \n",
       "0280-XJGEX  Bank transfer (automatic)          103.70       5036.30       1   \n",
       "4190-MFLUW    Credit card (automatic)           55.20        528.35       1   \n",
       "8779-QRDMV           Electronic check           39.65         39.65       1   \n",
       "1066-JKSGK               Mailed check           20.15         20.15       1   \n",
       "6467-CHFZW           Electronic check           99.35       4749.15       1   \n",
       "8665-UTDHZ           Electronic check           30.20         30.20       1   \n",
       "8773-HHUOZ               Mailed check           64.70       1093.10       1   \n",
       "6047-YHPVI           Electronic check           69.70        316.90       1   \n",
       "5380-WJKOV           Electronic check          106.35       3549.25       1   \n",
       "8168-UQWWF  Bank transfer (automatic)           97.85       1105.40       1   \n",
       "7760-OYPDY           Electronic check           80.65        144.15       1   \n",
       "\n",
       "           InternetService OnlineSecurity  ... StreamingMovies  gender  \\\n",
       "customerID                                 ...                           \n",
       "3668-QPYBK             DSL            Yes  ...              No    Male   \n",
       "9237-HQITU     Fiber optic             No  ...              No  Female   \n",
       "9305-CDSKC     Fiber optic             No  ...             Yes  Female   \n",
       "7892-POOKP     Fiber optic             No  ...             Yes  Female   \n",
       "0280-XJGEX     Fiber optic             No  ...             Yes    Male   \n",
       "4190-MFLUW             DSL             No  ...              No  Female   \n",
       "8779-QRDMV             DSL             No  ...             Yes    Male   \n",
       "1066-JKSGK          NoData         NoData  ...          NoData    Male   \n",
       "6467-CHFZW     Fiber optic             No  ...             Yes    Male   \n",
       "8665-UTDHZ             DSL             No  ...              No    Male   \n",
       "8773-HHUOZ             DSL             No  ...             Yes  Female   \n",
       "6047-YHPVI     Fiber optic             No  ...              No    Male   \n",
       "5380-WJKOV     Fiber optic             No  ...             Yes    Male   \n",
       "8168-UQWWF     Fiber optic             No  ...             Yes  Female   \n",
       "7760-OYPDY     Fiber optic             No  ...              No  Female   \n",
       "\n",
       "           SeniorCitizen Partner Dependents MultipleLines  TotalMonths  \\\n",
       "customerID                                                               \n",
       "3668-QPYBK             0      No         No            No          2.0   \n",
       "9237-HQITU             0      No         No            No          2.0   \n",
       "9305-CDSKC             0      No         No           Yes          8.0   \n",
       "7892-POOKP             0     Yes         No           Yes         28.0   \n",
       "0280-XJGEX             0      No         No           Yes         49.0   \n",
       "4190-MFLUW             0     Yes        Yes            No         10.0   \n",
       "8779-QRDMV             1      No         No        NoData          1.0   \n",
       "1066-JKSGK             0      No         No            No          1.0   \n",
       "6467-CHFZW             0     Yes        Yes           Yes         47.0   \n",
       "8665-UTDHZ             0     Yes        Yes        NoData          1.0   \n",
       "8773-HHUOZ             0      No        Yes            No         17.0   \n",
       "6047-YHPVI             0      No         No            No          5.0   \n",
       "5380-WJKOV             0      No         No           Yes         34.0   \n",
       "8168-UQWWF             0      No         No           Yes         11.0   \n",
       "7760-OYPDY             0      No         No            No          2.0   \n",
       "\n",
       "           MCH_group TCH_group SA_group  \n",
       "customerID                               \n",
       "3668-QPYBK         3         1      3.0  \n",
       "9237-HQITU         4         1      1.0  \n",
       "9305-CDSKC         5         2      5.0  \n",
       "7892-POOKP         6         3      6.0  \n",
       "0280-XJGEX         6         4      6.0  \n",
       "4190-MFLUW         3         2      3.0  \n",
       "8779-QRDMV         2         1      3.0  \n",
       "1066-JKSGK         2         1      0.0  \n",
       "6467-CHFZW         5         4      5.0  \n",
       "8665-UTDHZ         2         1      2.0  \n",
       "8773-HHUOZ         4         2      3.0  \n",
       "6047-YHPVI         4         1      1.0  \n",
       "5380-WJKOV         6         3      6.0  \n",
       "8168-UQWWF         5         2      5.0  \n",
       "7760-OYPDY         5         1      2.0  \n",
       "\n",
       "[15 rows x 24 columns]"
      ]
     },
     "execution_count": 32,
     "metadata": {},
     "output_type": "execute_result"
    }
   ],
   "source": [
    "telecom_leavers.head(15)"
   ]
  },
  {
   "cell_type": "markdown",
   "id": "39363db2",
   "metadata": {},
   "source": [
    "So nothing immediately catches your eye, in addition to the fact that all withdrawn clients had monthly payments. Which is quite logical, since most likely the client who has entered into a long-term contract is satisfied with the services provided."
   ]
  },
  {
   "cell_type": "code",
   "execution_count": 33,
   "id": "01ac114c",
   "metadata": {},
   "outputs": [
    {
     "data": {
      "image/png": "[encoded data removed]",
      "text/plain": [
       "<Figure size 432x288 with 1 Axes>"
      ]
     },
     "metadata": {
      "needs_background": "light"
     },
     "output_type": "display_data"
    }
   ],
   "source": [
    "leavers = telecom_leavers['Type']\n",
    "all = telecom['Type']\n",
    "\n",
    "pyplot.hist(leavers, bins = 5, alpha=0.3, label='leavers',color = '#E69F00', weights=np.ones(len(telecom_leavers)) / len(telecom_leavers))\n",
    "pyplot.hist(all, bins =5, alpha=0.3, label='all',color = '#56B4E9', weights=np.ones(len(telecom)) / len(telecom))\n",
    "pyplot.legend(loc='upper right')\n",
    "pyplot.show()"
   ]
  },
  {
   "cell_type": "code",
   "execution_count": 34,
   "id": "bcca56a7",
   "metadata": {},
   "outputs": [
    {
     "data": {
      "text/plain": [
       "0.8855002675227395"
      ]
     },
     "execution_count": 34,
     "metadata": {},
     "output_type": "execute_result"
    }
   ],
   "source": [
    "len(telecom_leavers.query('Type == \"Month-to-month\"'))/len(telecom_leavers)"
   ]
  },
  {
   "cell_type": "code",
   "execution_count": 35,
   "id": "6358e0c7",
   "metadata": {},
   "outputs": [
    {
     "data": {
      "text/plain": [
       "0.5501916796819537"
      ]
     },
     "execution_count": 35,
     "metadata": {},
     "output_type": "execute_result"
    }
   ],
   "source": [
    "len(telecom.query('Type == \"Month-to-month\"'))/len(telecom)"
   ]
  },
  {
   "cell_type": "markdown",
   "id": "08650a0b",
   "metadata": {},
   "source": [
    "The hypothesis was confirmed among former clients, the share of monthly contracts is 33% higher."
   ]
  },
  {
   "cell_type": "code",
   "execution_count": 36,
   "id": "a05aa679",
   "metadata": {},
   "outputs": [
    {
     "data": {
      "image/png": "[encoded data removed]",
      "text/plain": [
       "<Figure size 432x288 with 1 Axes>"
      ]
     },
     "metadata": {
      "needs_background": "light"
     },
     "output_type": "display_data"
    }
   ],
   "source": [
    "leavers = telecom_leavers['PaperlessBilling']\n",
    "all = telecom['PaperlessBilling']\n",
    "\n",
    "pyplot.hist(leavers, bins = 3, alpha=0.3, label='leavers',color = '#E69F00', weights=np.ones(len(telecom_leavers)) / len(telecom_leavers))\n",
    "pyplot.hist(all, bins =3, alpha=0.3, label='all',color = '#56B4E9', weights=np.ones(len(telecom)) / len(telecom))\n",
    "pyplot.legend(loc='upper right')\n",
    "pyplot.show()"
   ]
  },
  {
   "cell_type": "code",
   "execution_count": 37,
   "id": "f5bcbe28",
   "metadata": {},
   "outputs": [
    {
     "data": {
      "text/plain": [
       "0.5922192247621753"
      ]
     },
     "execution_count": 37,
     "metadata": {},
     "output_type": "execute_result"
    }
   ],
   "source": [
    "len(telecom.query('PaperlessBilling != \"No\"'))/len(telecom)"
   ]
  },
  {
   "cell_type": "code",
   "execution_count": 38,
   "id": "15005b8c",
   "metadata": {},
   "outputs": [
    {
     "data": {
      "text/plain": [
       "0.7490636704119851"
      ]
     },
     "execution_count": 38,
     "metadata": {},
     "output_type": "execute_result"
    }
   ],
   "source": [
    "len(telecom_leavers.query('PaperlessBilling != \"No\"'))/len(telecom_leavers)"
   ]
  },
  {
   "cell_type": "markdown",
   "id": "e59ac098",
   "metadata": {},
   "source": [
    "Here the dependence is not as pronounced as in the Type column. However, users with PaperlessBilling are 15% more likely to opt out of services."
   ]
  },
  {
   "cell_type": "code",
   "execution_count": 39,
   "id": "8aa1a0af",
   "metadata": {},
   "outputs": [
    {
     "data": {
      "image/png": "[encoded data removed]",
      "text/plain": [
       "<Figure size 432x288 with 1 Axes>"
      ]
     },
     "metadata": {
      "needs_background": "light"
     },
     "output_type": "display_data"
    }
   ],
   "source": [
    "leavers = telecom_leavers['PaymentMethod']\n",
    "all = telecom['PaymentMethod']\n",
    "\n",
    "pyplot.hist(leavers, bins = 7, alpha=0.3, label='leavers',color = '#E69F00', weights=np.ones(len(telecom_leavers)) / len(telecom_leavers))\n",
    "pyplot.hist(all, bins =7, alpha=0.3, label='all',color = '#56B4E9', weights=np.ones(len(telecom)) / len(telecom))\n",
    "pyplot.legend(loc='upper right')\n",
    "pyplot.show()"
   ]
  },
  {
   "cell_type": "code",
   "execution_count": 40,
   "id": "7de2b5b3",
   "metadata": {},
   "outputs": [
    {
     "data": {
      "text/plain": [
       "0.5730337078651685"
      ]
     },
     "execution_count": 40,
     "metadata": {},
     "output_type": "execute_result"
    }
   ],
   "source": [
    "len(telecom_leavers.query('PaymentMethod == \"Electronic check\"'))/len(telecom_leavers)"
   ]
  },
  {
   "cell_type": "code",
   "execution_count": 41,
   "id": "17738eba",
   "metadata": {},
   "outputs": [
    {
     "data": {
      "text/plain": [
       "0.3357944057929859"
      ]
     },
     "execution_count": 41,
     "metadata": {},
     "output_type": "execute_result"
    }
   ],
   "source": [
    "len(telecom.query('PaymentMethod == \"Electronic check\"'))/len(telecom)"
   ]
  },
  {
   "cell_type": "markdown",
   "id": "d8a8d9a1",
   "metadata": {},
   "source": [
    "Among the customers who left, 57% (24% more then among all users) were those who had an Electronic check payment method."
   ]
  },
  {
   "cell_type": "code",
   "execution_count": 42,
   "id": "76767873",
   "metadata": {},
   "outputs": [
    {
     "data": {
      "text/plain": [
       "Fiber optic    1297\n",
       "DSL             459\n",
       "NoData          113\n",
       "Name: InternetService, dtype: int64"
      ]
     },
     "execution_count": 42,
     "metadata": {},
     "output_type": "execute_result"
    }
   ],
   "source": [
    "telecom_leavers['InternetService'].value_counts()"
   ]
  },
  {
   "cell_type": "code",
   "execution_count": 43,
   "id": "e367bfcd",
   "metadata": {},
   "outputs": [
    {
     "data": {
      "text/plain": [
       "Fiber optic    3096\n",
       "DSL            2421\n",
       "NoData         1526\n",
       "Name: InternetService, dtype: int64"
      ]
     },
     "execution_count": 43,
     "metadata": {},
     "output_type": "execute_result"
    }
   ],
   "source": [
    "telecom['InternetService'].value_counts()"
   ]
  },
  {
   "cell_type": "code",
   "execution_count": 44,
   "id": "f0fe7630",
   "metadata": {},
   "outputs": [],
   "source": [
    "contract['target'] = contract['EndDate'].apply(lambda x: 0 if x=='No' else 1)"
   ]
  },
  {
   "cell_type": "code",
   "execution_count": 45,
   "id": "cf718907",
   "metadata": {},
   "outputs": [
    {
     "data": {
      "image/png": "[encoded data removed]",
      "text/plain": [
       "<Figure size 432x288 with 1 Axes>"
      ]
     },
     "metadata": {
      "needs_background": "light"
     },
     "output_type": "display_data"
    }
   ],
   "source": [
    "leavers = telecom_leavers['gender']\n",
    "all = telecom['gender']\n",
    "\n",
    "pyplot.hist(leavers, bins = 3, alpha=0.3, label='leavers',color = '#E69F00', weights=np.ones(len(telecom_leavers)) / len(telecom_leavers))\n",
    "pyplot.hist(all, bins =3, alpha=0.3, label='all',color = '#56B4E9', weights=np.ones(len(telecom)) / len(telecom))\n",
    "pyplot.legend(loc='upper right')\n",
    "pyplot.show()"
   ]
  },
  {
   "cell_type": "markdown",
   "id": "ececbfe5",
   "metadata": {},
   "source": [
    "There is practically no dependence on gender. Let's check the impact of having a pension certificate."
   ]
  },
  {
   "cell_type": "code",
   "execution_count": 46,
   "id": "16a54c8e",
   "metadata": {},
   "outputs": [
    {
     "data": {
      "text/plain": [
       "0    5901\n",
       "1    1142\n",
       "Name: SeniorCitizen, dtype: int64"
      ]
     },
     "execution_count": 46,
     "metadata": {},
     "output_type": "execute_result"
    }
   ],
   "source": [
    "telecom['SeniorCitizen'].value_counts()"
   ]
  },
  {
   "cell_type": "code",
   "execution_count": 47,
   "id": "47fbebbf",
   "metadata": {},
   "outputs": [
    {
     "data": {
      "image/png": "[encoded data removed]",
      "text/plain": [
       "<Figure size 432x288 with 1 Axes>"
      ]
     },
     "metadata": {
      "needs_background": "light"
     },
     "output_type": "display_data"
    }
   ],
   "source": [
    "leavers = telecom_leavers['SeniorCitizen']\n",
    "all = telecom['SeniorCitizen']\n",
    "\n",
    "pyplot.hist(leavers, bins = 3, alpha=0.3, label='leavers',color = '#E69F00', weights=np.ones(len(telecom_leavers)) / len(telecom_leavers))\n",
    "pyplot.hist(all, bins =3, alpha=0.3, label='all',color = '#56B4E9', weights=np.ones(len(telecom)) / len(telecom))\n",
    "pyplot.legend(loc='upper right')\n",
    "pyplot.show()"
   ]
  },
  {
   "cell_type": "code",
   "execution_count": 48,
   "id": "b5bda028",
   "metadata": {},
   "outputs": [
    {
     "data": {
      "text/plain": [
       "0.09253483550219332"
      ]
     },
     "execution_count": 48,
     "metadata": {},
     "output_type": "execute_result"
    }
   ],
   "source": [
    "len(telecom_leavers.query('SeniorCitizen == 1'))/len(telecom_leavers) - len(telecom.query('SeniorCitizen == 1'))/len(telecom)"
   ]
  },
  {
   "cell_type": "markdown",
   "id": "3e9b9ac2",
   "metadata": {},
   "source": [
    "Pensioners are 9% more likely to refuse company services. Let's check the effect of loneliness."
   ]
  },
  {
   "cell_type": "code",
   "execution_count": 49,
   "id": "637a7e23",
   "metadata": {},
   "outputs": [
    {
     "data": {
      "image/png": "[encoded data removed]",
      "text/plain": [
       "<Figure size 432x288 with 1 Axes>"
      ]
     },
     "metadata": {
      "needs_background": "light"
     },
     "output_type": "display_data"
    }
   ],
   "source": [
    "leavers = telecom_leavers['Partner']\n",
    "all = telecom['Partner']\n",
    "\n",
    "pyplot.hist(leavers, bins = 3, alpha=0.3, label='leavers',color = '#E69F00', weights=np.ones(len(telecom_leavers)) / len(telecom_leavers))\n",
    "pyplot.hist(all, bins =3, alpha=0.3, label='all',color = '#56B4E9', weights=np.ones(len(telecom)) / len(telecom))\n",
    "pyplot.legend(loc='upper right')\n",
    "pyplot.show()"
   ]
  },
  {
   "cell_type": "code",
   "execution_count": 50,
   "id": "42104df4",
   "metadata": {},
   "outputs": [
    {
     "data": {
      "text/plain": [
       "0.12508737316220087"
      ]
     },
     "execution_count": 50,
     "metadata": {},
     "output_type": "execute_result"
    }
   ],
   "source": [
    "len(telecom_leavers.query('Partner == \"No\"'))/len(telecom_leavers) - len(telecom.query('Partner == \"No\"'))/len(telecom)"
   ]
  },
  {
   "cell_type": "markdown",
   "id": "50d6a1c0",
   "metadata": {},
   "source": [
    "Lonely people are 12.5% more likely to refuse company services. Let's check the impact of having dependents."
   ]
  },
  {
   "cell_type": "code",
   "execution_count": 51,
   "id": "2b05b1f5",
   "metadata": {},
   "outputs": [
    {
     "data": {
      "image/png": "[encoded data removed]",
      "text/plain": [
       "<Figure size 432x288 with 1 Axes>"
      ]
     },
     "metadata": {
      "needs_background": "light"
     },
     "output_type": "display_data"
    }
   ],
   "source": [
    "leavers = telecom_leavers['Dependents']\n",
    "all = telecom['Dependents']\n",
    "\n",
    "pyplot.hist(leavers, bins = 3, alpha=0.3, label='leavers',color = '#E69F00', weights=np.ones(len(telecom_leavers)) / len(telecom_leavers))\n",
    "pyplot.hist(all, bins =3, alpha=0.3, label='all',color = '#56B4E9', weights=np.ones(len(telecom)) / len(telecom))\n",
    "pyplot.legend(loc='upper right')\n",
    "pyplot.show()"
   ]
  },
  {
   "cell_type": "code",
   "execution_count": 52,
   "id": "cfa59f97",
   "metadata": {},
   "outputs": [
    {
     "data": {
      "text/plain": [
       "0.12516341753595417"
      ]
     },
     "execution_count": 52,
     "metadata": {},
     "output_type": "execute_result"
    }
   ],
   "source": [
    "len(telecom_leavers.query('Dependents == \"No\"'))/len(telecom_leavers) - len(telecom.query('Dependents == \"No\"'))/len(telecom)"
   ]
  },
  {
   "cell_type": "markdown",
   "id": "c3dcbc62",
   "metadata": {},
   "source": [
    "Clients without dependents were 12.5% more likely to refuse the company's services. Same result."
   ]
  },
  {
   "cell_type": "markdown",
   "id": "f79851fb",
   "metadata": {},
   "source": [
    "According to the personal table, we can conclude that single childless pensioners are the most risky group of clients. It is also worth looking after those who pay the tariff monthly and by means of electronic checks."
   ]
  },
  {
   "cell_type": "code",
   "execution_count": 53,
   "id": "bb3d3331",
   "metadata": {},
   "outputs": [
    {
     "data": {
      "image/png": "[encoded data removed]",
      "text/plain": [
       "<Figure size 432x288 with 1 Axes>"
      ]
     },
     "metadata": {
      "needs_background": "light"
     },
     "output_type": "display_data"
    }
   ],
   "source": [
    "leavers = telecom_leavers['MCH_group']\n",
    "all = telecom['MCH_group']\n",
    "\n",
    "pyplot.hist(leavers, bins = 11, alpha=0.3, label='leavers',color = '#E69F00', weights=np.ones(len(telecom_leavers)) / len(telecom_leavers))\n",
    "pyplot.hist(all, bins = 11, alpha=0.3, label='all',color = '#56B4E9', weights=np.ones(len(telecom)) / len(telecom))\n",
    "pyplot.legend(loc='upper right')\n",
    "pyplot.show()"
   ]
  },
  {
   "cell_type": "markdown",
   "id": "30c7a70d",
   "metadata": {},
   "source": [
    "Those customers who paid more were more likely to refuse services. Quite logical."
   ]
  },
  {
   "cell_type": "code",
   "execution_count": 54,
   "id": "b68104f2",
   "metadata": {},
   "outputs": [
    {
     "data": {
      "image/png": "[encoded data removed]",
      "text/plain": [
       "<Figure size 432x288 with 1 Axes>"
      ]
     },
     "metadata": {
      "needs_background": "light"
     },
     "output_type": "display_data"
    }
   ],
   "source": [
    "leavers = telecom_leavers['TCH_group']\n",
    "all = telecom['TCH_group']\n",
    "\n",
    "pyplot.hist(leavers, bins = 7, alpha=0.3, label='leavers',color = '#E69F00', weights=np.ones(len(telecom_leavers)) / len(telecom_leavers))\n",
    "pyplot.hist(all, bins = 7, alpha=0.3, label='all',color = '#56B4E9', weights=np.ones(len(telecom)) / len(telecom))\n",
    "pyplot.legend(loc='upper right')\n",
    "pyplot.show()"
   ]
  },
  {
   "cell_type": "code",
   "execution_count": 55,
   "id": "3462779e",
   "metadata": {},
   "outputs": [
    {
     "data": {
      "text/plain": [
       "0.15749427938915628"
      ]
     },
     "execution_count": 55,
     "metadata": {},
     "output_type": "execute_result"
    }
   ],
   "source": [
    "len(telecom_leavers.query('TCH_group == 1'))/len(telecom_leavers) - len(telecom.query('TCH_group == 1'))/len(telecom)"
   ]
  },
  {
   "cell_type": "markdown",
   "id": "034a3981",
   "metadata": {},
   "source": [
    "Clients from the first group are 15.7% more likely to refuse services, which is also logical since they probably use the company's services not so long ago, therefore they have low total_charges values. However, such a conclusion gives us not the most visual information on both monthly and total charges. Perhaps we will display another graph that better displays the distribution."
   ]
  },
  {
   "cell_type": "code",
   "execution_count": 56,
   "id": "955a03de",
   "metadata": {},
   "outputs": [
    {
     "name": "stderr",
     "output_type": "stream",
     "text": [
      "C:\\conda\\lib\\site-packages\\seaborn\\distributions.py:2557: FutureWarning: `distplot` is a deprecated function and will be removed in a future version. Please adapt your code to use either `displot` (a figure-level function with similar flexibility) or `histplot` (an axes-level function for histograms).\n",
      "  warnings.warn(msg, FutureWarning)\n",
      "C:\\conda\\lib\\site-packages\\seaborn\\distributions.py:2557: FutureWarning: `distplot` is a deprecated function and will be removed in a future version. Please adapt your code to use either `displot` (a figure-level function with similar flexibility) or `histplot` (an axes-level function for histograms).\n",
      "  warnings.warn(msg, FutureWarning)\n"
     ]
    },
    {
     "data": {
      "image/png": "[encoded data removed]",
      "text/plain": [
       "<Figure size 1008x432 with 1 Axes>"
      ]
     },
     "metadata": {
      "needs_background": "light"
     },
     "output_type": "display_data"
    }
   ],
   "source": [
    "pyplot.figure(figsize = (14, 6))\n",
    "sns.distplot(telecom['MonthlyCharges'], label='All', bins=20, color = '#56B4E9')\n",
    "sns.distplot(telecom_leavers['MonthlyCharges'], label='Leavers', bins=20, color = '#E69F00')\n",
    "pyplot.title('Monthly charges distribution', fontsize=20)\n",
    "pyplot.legend();"
   ]
  },
  {
   "cell_type": "code",
   "execution_count": 57,
   "id": "4febe857",
   "metadata": {},
   "outputs": [
    {
     "data": {
      "text/plain": [
       "0.5856879170807895"
      ]
     },
     "execution_count": 57,
     "metadata": {},
     "output_type": "execute_result"
    }
   ],
   "source": [
    "len(telecom.query('MonthlyCharges > 60'))/7043"
   ]
  },
  {
   "cell_type": "code",
   "execution_count": 58,
   "id": "b4997156",
   "metadata": {},
   "outputs": [
    {
     "data": {
      "text/plain": [
       "64.76169246059922"
      ]
     },
     "execution_count": 58,
     "metadata": {},
     "output_type": "execute_result"
    }
   ],
   "source": [
    "telecom['MonthlyCharges'].mean()"
   ]
  },
  {
   "cell_type": "code",
   "execution_count": 59,
   "id": "afc8f50c",
   "metadata": {},
   "outputs": [
    {
     "data": {
      "text/plain": [
       "74.4413322632423"
      ]
     },
     "execution_count": 59,
     "metadata": {},
     "output_type": "execute_result"
    }
   ],
   "source": [
    "telecom_leavers['MonthlyCharges'].mean()"
   ]
  },
  {
   "cell_type": "markdown",
   "id": "664d8d8e",
   "metadata": {},
   "source": [
    "As expected, the lower the customer's monthly payment, the less likely they are to leave. Most of those who left paid more than 60 per month."
   ]
  },
  {
   "cell_type": "code",
   "execution_count": 60,
   "id": "6f0f782b",
   "metadata": {},
   "outputs": [
    {
     "name": "stderr",
     "output_type": "stream",
     "text": [
      "C:\\conda\\lib\\site-packages\\seaborn\\distributions.py:2557: FutureWarning: `distplot` is a deprecated function and will be removed in a future version. Please adapt your code to use either `displot` (a figure-level function with similar flexibility) or `histplot` (an axes-level function for histograms).\n",
      "  warnings.warn(msg, FutureWarning)\n",
      "C:\\conda\\lib\\site-packages\\seaborn\\distributions.py:2557: FutureWarning: `distplot` is a deprecated function and will be removed in a future version. Please adapt your code to use either `displot` (a figure-level function with similar flexibility) or `histplot` (an axes-level function for histograms).\n",
      "  warnings.warn(msg, FutureWarning)\n"
     ]
    },
    {
     "data": {
      "image/png": "[encoded data removed]",
      "text/plain": [
       "<Figure size 1008x432 with 1 Axes>"
      ]
     },
     "metadata": {
      "needs_background": "light"
     },
     "output_type": "display_data"
    }
   ],
   "source": [
    "pyplot.figure(figsize = (14, 6))\n",
    "sns.distplot(telecom['TotalMonths'], label='All', bins=20, color = '#56B4E9')\n",
    "sns.distplot(telecom_leavers['TotalMonths'], label='Leavers', bins=20, color = '#E69F00')\n",
    "pyplot.title('TotalMonths distribution', fontsize=20)\n",
    "pyplot.legend();"
   ]
  },
  {
   "cell_type": "markdown",
   "id": "ed097c01",
   "metadata": {},
   "source": [
    "As expected, the less time the client uses the services, the higher the likelihood that he will leave."
   ]
  },
  {
   "cell_type": "code",
   "execution_count": 61,
   "id": "3957f8e7",
   "metadata": {},
   "outputs": [
    {
     "data": {
      "text/plain": [
       "0.6597110754414125"
      ]
     },
     "execution_count": 61,
     "metadata": {},
     "output_type": "execute_result"
    }
   ],
   "source": [
    "len(telecom_leavers.query('TotalMonths < 20'))/len(telecom_leavers)"
   ]
  },
  {
   "cell_type": "markdown",
   "id": "f25e7818",
   "metadata": {},
   "source": [
    "Nearly 66% of lost users have been connected to their accounts for less than 20 months"
   ]
  },
  {
   "cell_type": "code",
   "execution_count": 62,
   "id": "492c2c55",
   "metadata": {},
   "outputs": [
    {
     "data": {
      "text/plain": [
       "0.20331728196896737"
      ]
     },
     "execution_count": 62,
     "metadata": {},
     "output_type": "execute_result"
    }
   ],
   "source": [
    "len(telecom_leavers.query('TotalMonths < 2'))/len(telecom_leavers)"
   ]
  },
  {
   "cell_type": "markdown",
   "id": "cce0776b",
   "metadata": {},
   "source": [
    "20% of lost users were connected to services for less than 2 months"
   ]
  },
  {
   "cell_type": "code",
   "execution_count": 63,
   "id": "611e3d40",
   "metadata": {},
   "outputs": [
    {
     "data": {
      "image/png": "[encoded data removed]",
      "text/plain": [
       "<Figure size 432x288 with 1 Axes>"
      ]
     },
     "metadata": {
      "needs_background": "light"
     },
     "output_type": "display_data"
    }
   ],
   "source": [
    "leavers = telecom_leavers['SA_group']\n",
    "all = telecom['SA_group']\n",
    "\n",
    "pyplot.hist(leavers, bins = 17, alpha=0.3, label='leavers',color = '#E69F00', weights=np.ones(len(telecom_leavers)) / len(telecom_leavers))\n",
    "pyplot.hist(all, bins = 17, alpha=0.3, label='all',color = '#56B4E9', weights=np.ones(len(telecom)) / len(telecom))\n",
    "pyplot.legend(loc='upper left')\n",
    "pyplot.show()"
   ]
  },
  {
   "cell_type": "markdown",
   "id": "31bb8291",
   "metadata": {},
   "source": [
    "It is difficult to draw a conclusion on the ratio of former customers to the number of connected services without considering specific connected services."
   ]
  },
  {
   "cell_type": "markdown",
   "id": "cb74a73d",
   "metadata": {},
   "source": [
    "I think it is worth considering the Internet and mobile communications separately. Let's start with mobile communications. there are fewer services available."
   ]
  },
  {
   "cell_type": "code",
   "execution_count": 64,
   "id": "64e17ddc",
   "metadata": {},
   "outputs": [
    {
     "data": {
      "image/png": "[encoded data removed]",
      "text/plain": [
       "<Figure size 432x288 with 1 Axes>"
      ]
     },
     "metadata": {
      "needs_background": "light"
     },
     "output_type": "display_data"
    }
   ],
   "source": [
    "leavers = telecom_leavers['MultipleLines']\n",
    "all = telecom['MultipleLines']\n",
    "\n",
    "pyplot.hist(leavers, bins = 5, alpha=0.3, label='leavers',color = '#E69F00', weights=np.ones(len(telecom_leavers)) / len(telecom_leavers))\n",
    "pyplot.hist(all, bins = 5, alpha=0.3, label='all',color = '#56B4E9', weights=np.ones(len(telecom)) / len(telecom))\n",
    "pyplot.legend(loc='upper left')\n",
    "pyplot.show()"
   ]
  },
  {
   "cell_type": "markdown",
   "id": "fbd6019c",
   "metadata": {},
   "source": [
    "There is no pronounced dependence; we turn to the Internet."
   ]
  },
  {
   "cell_type": "code",
   "execution_count": 65,
   "id": "1d24e9ba",
   "metadata": {},
   "outputs": [
    {
     "name": "stdout",
     "output_type": "stream",
     "text": [
      "<class 'pandas.core.frame.DataFrame'>\n",
      "Index: 5517 entries, 7590-VHVEG to 3186-AJIEK\n",
      "Data columns (total 7 columns):\n",
      " #   Column            Non-Null Count  Dtype \n",
      "---  ------            --------------  ----- \n",
      " 0   InternetService   5517 non-null   object\n",
      " 1   OnlineSecurity    5517 non-null   object\n",
      " 2   OnlineBackup      5517 non-null   object\n",
      " 3   DeviceProtection  5517 non-null   object\n",
      " 4   TechSupport       5517 non-null   object\n",
      " 5   StreamingTV       5517 non-null   object\n",
      " 6   StreamingMovies   5517 non-null   object\n",
      "dtypes: object(7)\n",
      "memory usage: 473.9+ KB\n"
     ]
    }
   ],
   "source": [
    "internet.info()"
   ]
  },
  {
   "cell_type": "code",
   "execution_count": 66,
   "id": "2ed614a7",
   "metadata": {},
   "outputs": [
    {
     "data": {
      "image/png": "[encoded data removed]",
      "text/plain": [
       "<Figure size 1080x360 with 4 Axes>"
      ]
     },
     "metadata": {
      "needs_background": "light"
     },
     "output_type": "display_data"
    }
   ],
   "source": [
    "fig, ax = pyplot.subplots(1, 4, figsize=(15, 5))\n",
    "column = ['OnlineSecurity', 'OnlineBackup', 'DeviceProtection', 'TechSupport']\n",
    "x = 0\n",
    "for i in column:\n",
    "    leavers = telecom_leavers[i]\n",
    "    all = telecom[i]\n",
    "\n",
    "    ax[x].hist(leavers, bins = 5, alpha=0.3, label='leavers',color = '#E69F00', weights=np.ones(len(telecom_leavers)) / len(telecom_leavers))\n",
    "    ax[x].hist(all, bins = 5, alpha=0.3, label='all',color = '#56B4E9', weights=np.ones(len(telecom)) / len(telecom))\n",
    "    ax[x].legend(loc='upper right')\n",
    "    ax[x].set_title(i)\n",
    "    x += 1\n",
    "\n",
    "pyplot.show()"
   ]
  },
  {
   "cell_type": "markdown",
   "id": "888bf0fd",
   "metadata": {},
   "source": [
    "Dependence is noticeable in the derived services. The presence of these services, with the Internet connected, reduces the likelihood of a client leaving."
   ]
  },
  {
   "cell_type": "code",
   "execution_count": 67,
   "id": "4e1e7a6b",
   "metadata": {},
   "outputs": [
    {
     "name": "stdout",
     "output_type": "stream",
     "text": [
      "0.2850380909382835\n",
      "0.22126155109099366\n",
      "0.2084966559087808\n",
      "0.2805620324951815\n"
     ]
    }
   ],
   "source": [
    "print(len(telecom_leavers.query('OnlineSecurity ==\"No\"'))/len(telecom_leavers) - len(telecom.query('OnlineSecurity ==\"No\"'))/len(telecom))\n",
    "print(len(telecom_leavers.query('OnlineBackup ==\"No\"'))/len(telecom_leavers) - len(telecom.query('OnlineBackup ==\"No\"'))/len(telecom))\n",
    "print(len(telecom_leavers.query('DeviceProtection ==\"No\"'))/len(telecom_leavers) - len(telecom.query('DeviceProtection ==\"No\"'))/len(telecom))\n",
    "print(len(telecom_leavers.query('TechSupport ==\"No\"'))/len(telecom_leavers) - len(telecom.query('TechSupport ==\"No\"'))/len(telecom))"
   ]
  },
  {
   "cell_type": "code",
   "execution_count": 68,
   "id": "e638c7e4",
   "metadata": {},
   "outputs": [
    {
     "data": {
      "image/png": "[encoded data removed]",
      "text/plain": [
       "<Figure size 432x288 with 1 Axes>"
      ]
     },
     "metadata": {
      "needs_background": "light"
     },
     "output_type": "display_data"
    }
   ],
   "source": [
    "leavers = telecom_leavers['InternetService']\n",
    "all = telecom['InternetService']\n",
    "\n",
    "pyplot.hist(leavers, bins = 5, alpha=0.3, label='leavers',color = '#E69F00', weights=np.ones(len(telecom_leavers)) / len(telecom_leavers))\n",
    "pyplot.hist(all, bins = 5, alpha=0.3, label='all',color = '#56B4E9', weights=np.ones(len(telecom)) / len(telecom))\n",
    "pyplot.legend(loc='upper left')\n",
    "pyplot.show()"
   ]
  },
  {
   "cell_type": "markdown",
   "id": "a7a23641",
   "metadata": {},
   "source": [
    "People with Fiber optic service are more likely to refuse services. Something is probably wrong with the Fiber optic."
   ]
  },
  {
   "cell_type": "code",
   "execution_count": 69,
   "id": "eb4531bf",
   "metadata": {},
   "outputs": [
    {
     "name": "stdout",
     "output_type": "stream",
     "text": [
      "0.25436858214163593\n"
     ]
    }
   ],
   "source": [
    "print(len(telecom_leavers.query('InternetService ==\"Fiber optic\"'))/len(telecom_leavers) - len(telecom.query('InternetService ==\"Fiber optic\"'))/len(telecom))"
   ]
  },
  {
   "cell_type": "code",
   "execution_count": 70,
   "id": "5628515b",
   "metadata": {},
   "outputs": [
    {
     "data": {
      "image/png": "[encoded data removed]",
      "text/plain": [
       "<Figure size 432x288 with 1 Axes>"
      ]
     },
     "metadata": {
      "needs_background": "light"
     },
     "output_type": "display_data"
    },
    {
     "data": {
      "image/png": "[encoded data removed]",
      "text/plain": [
       "<Figure size 432x288 with 1 Axes>"
      ]
     },
     "metadata": {
      "needs_background": "light"
     },
     "output_type": "display_data"
    }
   ],
   "source": [
    "column = ['StreamingTV', 'StreamingMovies']\n",
    "for i in column:\n",
    "    leavers = telecom_leavers[i]\n",
    "    all = telecom[i]\n",
    "\n",
    "    pyplot.hist(leavers, bins = 5, alpha=0.3, label='leavers',color = '#E69F00', weights=np.ones(len(telecom_leavers)) / len(telecom_leavers))\n",
    "    pyplot.hist(all, bins = 5, alpha=0.3, label='all',color = '#56B4E9', weights=np.ones(len(telecom)) / len(telecom))\n",
    "    pyplot.legend(loc='upper right')\n",
    "    pyplot.title(i)\n",
    "    pyplot.show()"
   ]
  },
  {
   "cell_type": "markdown",
   "id": "856fd1b6",
   "metadata": {},
   "source": [
    "It is difficult to talk about the impact of StreamingTV and StreamingMovies services on the likelihood of a customer leaving. However, in general, according to the internet table or the last 7 histograms, specifically for NoData (clients who did not connect to the Internet), it can be concluded that the company's customers who did not connect to the Internet are less likely to refuse services."
   ]
  },
  {
   "cell_type": "markdown",
   "id": "2f1ad2da",
   "metadata": {},
   "source": [
    "To confirm the hypothesis, it is worth highlighting groups of customers by connected services."
   ]
  },
  {
   "cell_type": "code",
   "execution_count": 71,
   "id": "ab94710a",
   "metadata": {},
   "outputs": [],
   "source": [
    "def user_type (row):\n",
    "    internet_user = row['InternetService']\n",
    "    phone_user = row['MultipleLines']\n",
    "    if (internet_user == 'Fiber optic' or internet_user == 'DSL') and (phone_user=='No' or phone_user=='Yes'):\n",
    "        return 'Internet and phone'\n",
    "    elif (internet_user == 'Fiber optic' or internet_user == 'DSL') and phone_user == 'NoData':\n",
    "        return 'Internet only'\n",
    "    elif phone_user=='No' or phone_user=='Yes' and internet_user == 'NoData':\n",
    "        return 'Phone only'\n",
    "    else:\n",
    "        return 'Unknown'"
   ]
  },
  {
   "cell_type": "code",
   "execution_count": 72,
   "id": "331917c6",
   "metadata": {},
   "outputs": [],
   "source": [
    "telecom['UserType'] = telecom.apply(user_type, axis=1)"
   ]
  },
  {
   "cell_type": "code",
   "execution_count": 73,
   "id": "ace874c5",
   "metadata": {},
   "outputs": [],
   "source": [
    "pie_user_type_all = telecom['UserType'].value_counts()"
   ]
  },
  {
   "cell_type": "markdown",
   "id": "060f1f8f",
   "metadata": {},
   "source": [
    "Let's split the table again."
   ]
  },
  {
   "cell_type": "code",
   "execution_count": 74,
   "id": "c62c4b2e",
   "metadata": {},
   "outputs": [],
   "source": [
    "telecom_leavers = telecom.query('target == 1')"
   ]
  },
  {
   "cell_type": "code",
   "execution_count": 75,
   "id": "a06f8abf",
   "metadata": {},
   "outputs": [],
   "source": [
    "pie_user_type_leavers = telecom_leavers['UserType'].value_counts()"
   ]
  },
  {
   "cell_type": "code",
   "execution_count": 76,
   "id": "a6682416",
   "metadata": {},
   "outputs": [
    {
     "data": {
      "text/plain": [
       "Text(0.5, 0.98, 'User type')"
      ]
     },
     "execution_count": 76,
     "metadata": {},
     "output_type": "execute_result"
    },
    {
     "data": {
      "image/png": "[encoded data removed]",
      "text/plain": [
       "<Figure size 1080x432 with 2 Axes>"
      ]
     },
     "metadata": {},
     "output_type": "display_data"
    }
   ],
   "source": [
    "fig, ax = pyplot.subplots(1, 2, figsize=(15, 6))\n",
    "ax[0].pie(pie_user_type_all, labels = pie_user_type_all.index, autopct='%1.1f%%', shadow=True)\n",
    "ax[0].set_title('All users')\n",
    "ax[1].pie(pie_user_type_leavers, labels = pie_user_type_all.index, autopct='%1.1f%%', shadow=True)\n",
    "ax[1].set_title('Leavers')\n",
    "fig.suptitle('User type', fontsize=20)"
   ]
  },
  {
   "cell_type": "markdown",
   "id": "f8dbb26e",
   "metadata": {},
   "source": [
    "The hypothesis was confirmed. Among customers who refused services, there are much fewer Phone only users. There are also noticeably more users who use both the Internet and mobile communications among those who refused services."
   ]
  },
  {
   "cell_type": "code",
   "execution_count": 77,
   "id": "72ef4013",
   "metadata": {},
   "outputs": [
    {
     "data": {
      "text/html": [
       "<div>\n",
       "<style scoped>\n",
       "    .dataframe tbody tr th:only-of-type {\n",
       "        vertical-align: middle;\n",
       "    }\n",
       "\n",
       "    .dataframe tbody tr th {\n",
       "        vertical-align: top;\n",
       "    }\n",
       "\n",
       "    .dataframe thead th {\n",
       "        text-align: right;\n",
       "    }\n",
       "</style>\n",
       "<table border=\"1\" class=\"dataframe\">\n",
       "  <thead>\n",
       "    <tr style=\"text-align: right;\">\n",
       "      <th></th>\n",
       "      <th>SA_group</th>\n",
       "      <th>TotalMonths</th>\n",
       "      <th>MonthlyCharges</th>\n",
       "      <th>TotalCharges</th>\n",
       "    </tr>\n",
       "  </thead>\n",
       "  <tbody>\n",
       "    <tr>\n",
       "      <th>SA_group</th>\n",
       "      <td>1.000000</td>\n",
       "      <td>0.473866</td>\n",
       "      <td>0.821725</td>\n",
       "      <td>0.763796</td>\n",
       "    </tr>\n",
       "    <tr>\n",
       "      <th>TotalMonths</th>\n",
       "      <td>0.473866</td>\n",
       "      <td>1.000000</td>\n",
       "      <td>0.247900</td>\n",
       "      <td>0.826178</td>\n",
       "    </tr>\n",
       "    <tr>\n",
       "      <th>MonthlyCharges</th>\n",
       "      <td>0.821725</td>\n",
       "      <td>0.247900</td>\n",
       "      <td>1.000000</td>\n",
       "      <td>0.651174</td>\n",
       "    </tr>\n",
       "    <tr>\n",
       "      <th>TotalCharges</th>\n",
       "      <td>0.763796</td>\n",
       "      <td>0.826178</td>\n",
       "      <td>0.651174</td>\n",
       "      <td>1.000000</td>\n",
       "    </tr>\n",
       "  </tbody>\n",
       "</table>\n",
       "</div>"
      ],
      "text/plain": [
       "                SA_group  TotalMonths  MonthlyCharges  TotalCharges\n",
       "SA_group        1.000000     0.473866        0.821725      0.763796\n",
       "TotalMonths     0.473866     1.000000        0.247900      0.826178\n",
       "MonthlyCharges  0.821725     0.247900        1.000000      0.651174\n",
       "TotalCharges    0.763796     0.826178        0.651174      1.000000"
      ]
     },
     "execution_count": 77,
     "metadata": {},
     "output_type": "execute_result"
    },
    {
     "data": {
      "text/plain": [
       "<Figure size 720x576 with 0 Axes>"
      ]
     },
     "metadata": {},
     "output_type": "display_data"
    }
   ],
   "source": [
    "quantitive_columns = ['SA_group','TotalMonths', 'MonthlyCharges', 'TotalCharges', 'UserType']\n",
    "pyplot.figure(figsize=(10, 8))\n",
    "telecom[quantitive_columns].corr()"
   ]
  },
  {
   "cell_type": "markdown",
   "id": "ae36b356",
   "metadata": {},
   "source": [
    "0.826178 TotalMonths dependency on TotalCharges, remove TotalCharges"
   ]
  },
  {
   "cell_type": "code",
   "execution_count": 78,
   "id": "fcc97755",
   "metadata": {},
   "outputs": [],
   "source": [
    "telecom = telecom.drop('TotalCharges', axis=1)"
   ]
  },
  {
   "cell_type": "markdown",
   "id": "5f7cf5d8",
   "metadata": {},
   "source": [
    "# EA Conclusions"
   ]
  },
  {
   "cell_type": "markdown",
   "id": "e25698c4",
   "metadata": {},
   "source": [
    "1) 88% of former users made a 'Month-to-month' contact. Only 55% Month-to-month contracts across the entire dataset.\n",
    "\n",
    "2) Users with connected PaperlessBilling are 15% more likely to refuse services.\n",
    "\n",
    "3) Among the customers who left, there are 24% more of those who had an Electronic check payment method, compared to the entire sample.\n",
    "\n",
    "4) Pensioners are 9% more likely to refuse company services.\n",
    "\n",
    "5) Lonely or just childless people are 12.5% more likely to refuse company services.\n",
    "\n",
    "6) 58% of those who left paid more than 60 per month. The average monthly payment for the entire dataset is 64, and for those who left 74.\n",
    "\n",
    "7) Nearly 66% of lost users have been connected to their accounts for less than 20 months. 20% of lost users were connected to services for less than 2 months\n",
    "\n",
    "8) The client's lack of 'OnlineSecurity', 'OnlineBackup', 'DeviceProtection', 'TechSupport' services increases the probability of a client leaving by 29, 22, 20, 28%, respectively. These services can be offered to clients who are on the list of potential exits.\n",
    "\n",
    "9) People with the Fiber optic service refuse services more often. Something is probably wrong with the Fiber optic.\n",
    "\n",
    "10) The total share of users who use both the Internet and the phone is 69%, while in the former customers this share is 85%."
   ]
  },
  {
   "cell_type": "markdown",
   "id": "18dfa46c",
   "metadata": {},
   "source": [
    "# Data preparation for models"
   ]
  },
  {
   "cell_type": "code",
   "execution_count": 79,
   "id": "c3c1990a",
   "metadata": {},
   "outputs": [],
   "source": [
    "telecom_coded = telecom"
   ]
  },
  {
   "cell_type": "code",
   "execution_count": 80,
   "id": "4c803942",
   "metadata": {},
   "outputs": [
    {
     "name": "stdout",
     "output_type": "stream",
     "text": [
      "<class 'pandas.core.frame.DataFrame'>\n",
      "Index: 7043 entries, 7590-VHVEG to 3186-AJIEK\n",
      "Data columns (total 24 columns):\n",
      " #   Column            Non-Null Count  Dtype         \n",
      "---  ------            --------------  -----         \n",
      " 0   BeginDate         7043 non-null   datetime64[ns]\n",
      " 1   EndDate           7043 non-null   object        \n",
      " 2   Type              7043 non-null   object        \n",
      " 3   PaperlessBilling  7043 non-null   object        \n",
      " 4   PaymentMethod     7043 non-null   object        \n",
      " 5   MonthlyCharges    7043 non-null   float64       \n",
      " 6   target            7043 non-null   int64         \n",
      " 7   InternetService   7043 non-null   object        \n",
      " 8   OnlineSecurity    7043 non-null   object        \n",
      " 9   OnlineBackup      7043 non-null   object        \n",
      " 10  DeviceProtection  7043 non-null   object        \n",
      " 11  TechSupport       7043 non-null   object        \n",
      " 12  StreamingTV       7043 non-null   object        \n",
      " 13  StreamingMovies   7043 non-null   object        \n",
      " 14  gender            7043 non-null   object        \n",
      " 15  SeniorCitizen     7043 non-null   int64         \n",
      " 16  Partner           7043 non-null   object        \n",
      " 17  Dependents        7043 non-null   object        \n",
      " 18  MultipleLines     7043 non-null   object        \n",
      " 19  TotalMonths       7043 non-null   float64       \n",
      " 20  MCH_group         7043 non-null   int64         \n",
      " 21  TCH_group         7043 non-null   int64         \n",
      " 22  SA_group          7043 non-null   float64       \n",
      " 23  UserType          7043 non-null   object        \n",
      "dtypes: datetime64[ns](1), float64(3), int64(4), object(16)\n",
      "memory usage: 1.3+ MB\n"
     ]
    }
   ],
   "source": [
    "telecom.info()"
   ]
  },
  {
   "cell_type": "markdown",
   "id": "08ec894e",
   "metadata": {},
   "source": [
    "Recode categorical features."
   ]
  },
  {
   "cell_type": "code",
   "execution_count": 81,
   "id": "ca836fb2",
   "metadata": {},
   "outputs": [],
   "source": [
    "columns = ['Type', 'PaperlessBilling', 'PaymentMethod', 'InternetService', 'OnlineSecurity', 'OnlineBackup', 'DeviceProtection',\n",
    "           'TechSupport', 'StreamingTV', \n",
    "           'StreamingMovies', 'gender', 'SeniorCitizen', 'Partner', 'Dependents', 'MultipleLines', 'UserType']\n",
    "for i in columns:\n",
    "    telecom_coded[i] = telecom_coded[i].astype('category')\n",
    "cat_columns = telecom_coded.select_dtypes(['category']).columns\n",
    "telecom_coded[cat_columns] = telecom_coded[cat_columns].apply(lambda x: x.cat.codes)"
   ]
  },
  {
   "cell_type": "code",
   "execution_count": 82,
   "id": "018cb241",
   "metadata": {},
   "outputs": [
    {
     "data": {
      "text/html": [
       "<div>\n",
       "<style scoped>\n",
       "    .dataframe tbody tr th:only-of-type {\n",
       "        vertical-align: middle;\n",
       "    }\n",
       "\n",
       "    .dataframe tbody tr th {\n",
       "        vertical-align: top;\n",
       "    }\n",
       "\n",
       "    .dataframe thead th {\n",
       "        text-align: right;\n",
       "    }\n",
       "</style>\n",
       "<table border=\"1\" class=\"dataframe\">\n",
       "  <thead>\n",
       "    <tr style=\"text-align: right;\">\n",
       "      <th></th>\n",
       "      <th>BeginDate</th>\n",
       "      <th>EndDate</th>\n",
       "      <th>Type</th>\n",
       "      <th>PaperlessBilling</th>\n",
       "      <th>PaymentMethod</th>\n",
       "      <th>MonthlyCharges</th>\n",
       "      <th>target</th>\n",
       "      <th>InternetService</th>\n",
       "      <th>OnlineSecurity</th>\n",
       "      <th>OnlineBackup</th>\n",
       "      <th>...</th>\n",
       "      <th>gender</th>\n",
       "      <th>SeniorCitizen</th>\n",
       "      <th>Partner</th>\n",
       "      <th>Dependents</th>\n",
       "      <th>MultipleLines</th>\n",
       "      <th>TotalMonths</th>\n",
       "      <th>MCH_group</th>\n",
       "      <th>TCH_group</th>\n",
       "      <th>SA_group</th>\n",
       "      <th>UserType</th>\n",
       "    </tr>\n",
       "    <tr>\n",
       "      <th>customerID</th>\n",
       "      <th></th>\n",
       "      <th></th>\n",
       "      <th></th>\n",
       "      <th></th>\n",
       "      <th></th>\n",
       "      <th></th>\n",
       "      <th></th>\n",
       "      <th></th>\n",
       "      <th></th>\n",
       "      <th></th>\n",
       "      <th></th>\n",
       "      <th></th>\n",
       "      <th></th>\n",
       "      <th></th>\n",
       "      <th></th>\n",
       "      <th></th>\n",
       "      <th></th>\n",
       "      <th></th>\n",
       "      <th></th>\n",
       "      <th></th>\n",
       "      <th></th>\n",
       "    </tr>\n",
       "  </thead>\n",
       "  <tbody>\n",
       "    <tr>\n",
       "      <th>7590-VHVEG</th>\n",
       "      <td>2020-01-01</td>\n",
       "      <td>No</td>\n",
       "      <td>0</td>\n",
       "      <td>1</td>\n",
       "      <td>2</td>\n",
       "      <td>29.85</td>\n",
       "      <td>0</td>\n",
       "      <td>0</td>\n",
       "      <td>0</td>\n",
       "      <td>2</td>\n",
       "      <td>...</td>\n",
       "      <td>0</td>\n",
       "      <td>0</td>\n",
       "      <td>1</td>\n",
       "      <td>0</td>\n",
       "      <td>1</td>\n",
       "      <td>1.0</td>\n",
       "      <td>2</td>\n",
       "      <td>1</td>\n",
       "      <td>2.0</td>\n",
       "      <td>1</td>\n",
       "    </tr>\n",
       "    <tr>\n",
       "      <th>5575-GNVDE</th>\n",
       "      <td>2017-04-01</td>\n",
       "      <td>No</td>\n",
       "      <td>1</td>\n",
       "      <td>0</td>\n",
       "      <td>3</td>\n",
       "      <td>56.95</td>\n",
       "      <td>0</td>\n",
       "      <td>0</td>\n",
       "      <td>2</td>\n",
       "      <td>0</td>\n",
       "      <td>...</td>\n",
       "      <td>1</td>\n",
       "      <td>0</td>\n",
       "      <td>0</td>\n",
       "      <td>0</td>\n",
       "      <td>0</td>\n",
       "      <td>34.0</td>\n",
       "      <td>3</td>\n",
       "      <td>3</td>\n",
       "      <td>3.0</td>\n",
       "      <td>0</td>\n",
       "    </tr>\n",
       "    <tr>\n",
       "      <th>3668-QPYBK</th>\n",
       "      <td>2019-10-01</td>\n",
       "      <td>2019-12-01 00:00:00</td>\n",
       "      <td>0</td>\n",
       "      <td>1</td>\n",
       "      <td>3</td>\n",
       "      <td>53.85</td>\n",
       "      <td>1</td>\n",
       "      <td>0</td>\n",
       "      <td>2</td>\n",
       "      <td>2</td>\n",
       "      <td>...</td>\n",
       "      <td>1</td>\n",
       "      <td>0</td>\n",
       "      <td>0</td>\n",
       "      <td>0</td>\n",
       "      <td>0</td>\n",
       "      <td>2.0</td>\n",
       "      <td>3</td>\n",
       "      <td>1</td>\n",
       "      <td>3.0</td>\n",
       "      <td>0</td>\n",
       "    </tr>\n",
       "    <tr>\n",
       "      <th>7795-CFOCW</th>\n",
       "      <td>2016-05-01</td>\n",
       "      <td>No</td>\n",
       "      <td>1</td>\n",
       "      <td>0</td>\n",
       "      <td>0</td>\n",
       "      <td>42.30</td>\n",
       "      <td>0</td>\n",
       "      <td>0</td>\n",
       "      <td>2</td>\n",
       "      <td>0</td>\n",
       "      <td>...</td>\n",
       "      <td>1</td>\n",
       "      <td>0</td>\n",
       "      <td>0</td>\n",
       "      <td>0</td>\n",
       "      <td>1</td>\n",
       "      <td>45.0</td>\n",
       "      <td>3</td>\n",
       "      <td>3</td>\n",
       "      <td>4.0</td>\n",
       "      <td>1</td>\n",
       "    </tr>\n",
       "    <tr>\n",
       "      <th>9237-HQITU</th>\n",
       "      <td>2019-09-01</td>\n",
       "      <td>2019-11-01 00:00:00</td>\n",
       "      <td>0</td>\n",
       "      <td>1</td>\n",
       "      <td>2</td>\n",
       "      <td>70.70</td>\n",
       "      <td>1</td>\n",
       "      <td>1</td>\n",
       "      <td>0</td>\n",
       "      <td>0</td>\n",
       "      <td>...</td>\n",
       "      <td>0</td>\n",
       "      <td>0</td>\n",
       "      <td>0</td>\n",
       "      <td>0</td>\n",
       "      <td>0</td>\n",
       "      <td>2.0</td>\n",
       "      <td>4</td>\n",
       "      <td>1</td>\n",
       "      <td>1.0</td>\n",
       "      <td>0</td>\n",
       "    </tr>\n",
       "    <tr>\n",
       "      <th>...</th>\n",
       "      <td>...</td>\n",
       "      <td>...</td>\n",
       "      <td>...</td>\n",
       "      <td>...</td>\n",
       "      <td>...</td>\n",
       "      <td>...</td>\n",
       "      <td>...</td>\n",
       "      <td>...</td>\n",
       "      <td>...</td>\n",
       "      <td>...</td>\n",
       "      <td>...</td>\n",
       "      <td>...</td>\n",
       "      <td>...</td>\n",
       "      <td>...</td>\n",
       "      <td>...</td>\n",
       "      <td>...</td>\n",
       "      <td>...</td>\n",
       "      <td>...</td>\n",
       "      <td>...</td>\n",
       "      <td>...</td>\n",
       "      <td>...</td>\n",
       "    </tr>\n",
       "    <tr>\n",
       "      <th>6840-RESVB</th>\n",
       "      <td>2018-02-01</td>\n",
       "      <td>No</td>\n",
       "      <td>1</td>\n",
       "      <td>1</td>\n",
       "      <td>3</td>\n",
       "      <td>84.80</td>\n",
       "      <td>0</td>\n",
       "      <td>0</td>\n",
       "      <td>2</td>\n",
       "      <td>0</td>\n",
       "      <td>...</td>\n",
       "      <td>1</td>\n",
       "      <td>0</td>\n",
       "      <td>1</td>\n",
       "      <td>1</td>\n",
       "      <td>2</td>\n",
       "      <td>24.0</td>\n",
       "      <td>5</td>\n",
       "      <td>3</td>\n",
       "      <td>7.0</td>\n",
       "      <td>0</td>\n",
       "    </tr>\n",
       "    <tr>\n",
       "      <th>2234-XADUH</th>\n",
       "      <td>2014-02-01</td>\n",
       "      <td>No</td>\n",
       "      <td>1</td>\n",
       "      <td>1</td>\n",
       "      <td>1</td>\n",
       "      <td>103.20</td>\n",
       "      <td>0</td>\n",
       "      <td>1</td>\n",
       "      <td>0</td>\n",
       "      <td>2</td>\n",
       "      <td>...</td>\n",
       "      <td>0</td>\n",
       "      <td>0</td>\n",
       "      <td>1</td>\n",
       "      <td>1</td>\n",
       "      <td>2</td>\n",
       "      <td>72.0</td>\n",
       "      <td>6</td>\n",
       "      <td>4</td>\n",
       "      <td>6.0</td>\n",
       "      <td>0</td>\n",
       "    </tr>\n",
       "    <tr>\n",
       "      <th>4801-JZAZL</th>\n",
       "      <td>2019-03-01</td>\n",
       "      <td>No</td>\n",
       "      <td>0</td>\n",
       "      <td>1</td>\n",
       "      <td>2</td>\n",
       "      <td>29.60</td>\n",
       "      <td>0</td>\n",
       "      <td>0</td>\n",
       "      <td>2</td>\n",
       "      <td>0</td>\n",
       "      <td>...</td>\n",
       "      <td>0</td>\n",
       "      <td>0</td>\n",
       "      <td>1</td>\n",
       "      <td>1</td>\n",
       "      <td>1</td>\n",
       "      <td>11.0</td>\n",
       "      <td>2</td>\n",
       "      <td>1</td>\n",
       "      <td>2.0</td>\n",
       "      <td>1</td>\n",
       "    </tr>\n",
       "    <tr>\n",
       "      <th>8361-LTMKD</th>\n",
       "      <td>2019-07-01</td>\n",
       "      <td>2019-11-01 00:00:00</td>\n",
       "      <td>0</td>\n",
       "      <td>1</td>\n",
       "      <td>3</td>\n",
       "      <td>74.40</td>\n",
       "      <td>1</td>\n",
       "      <td>1</td>\n",
       "      <td>0</td>\n",
       "      <td>0</td>\n",
       "      <td>...</td>\n",
       "      <td>1</td>\n",
       "      <td>1</td>\n",
       "      <td>1</td>\n",
       "      <td>0</td>\n",
       "      <td>2</td>\n",
       "      <td>4.0</td>\n",
       "      <td>4</td>\n",
       "      <td>1</td>\n",
       "      <td>2.0</td>\n",
       "      <td>0</td>\n",
       "    </tr>\n",
       "    <tr>\n",
       "      <th>3186-AJIEK</th>\n",
       "      <td>2014-08-01</td>\n",
       "      <td>No</td>\n",
       "      <td>2</td>\n",
       "      <td>1</td>\n",
       "      <td>0</td>\n",
       "      <td>105.65</td>\n",
       "      <td>0</td>\n",
       "      <td>1</td>\n",
       "      <td>2</td>\n",
       "      <td>0</td>\n",
       "      <td>...</td>\n",
       "      <td>1</td>\n",
       "      <td>0</td>\n",
       "      <td>0</td>\n",
       "      <td>0</td>\n",
       "      <td>0</td>\n",
       "      <td>66.0</td>\n",
       "      <td>6</td>\n",
       "      <td>4</td>\n",
       "      <td>6.0</td>\n",
       "      <td>0</td>\n",
       "    </tr>\n",
       "  </tbody>\n",
       "</table>\n",
       "<p>7043 rows × 24 columns</p>\n",
       "</div>"
      ],
      "text/plain": [
       "            BeginDate              EndDate  Type  PaperlessBilling  \\\n",
       "customerID                                                           \n",
       "7590-VHVEG 2020-01-01                   No     0                 1   \n",
       "5575-GNVDE 2017-04-01                   No     1                 0   \n",
       "3668-QPYBK 2019-10-01  2019-12-01 00:00:00     0                 1   \n",
       "7795-CFOCW 2016-05-01                   No     1                 0   \n",
       "9237-HQITU 2019-09-01  2019-11-01 00:00:00     0                 1   \n",
       "...               ...                  ...   ...               ...   \n",
       "6840-RESVB 2018-02-01                   No     1                 1   \n",
       "2234-XADUH 2014-02-01                   No     1                 1   \n",
       "4801-JZAZL 2019-03-01                   No     0                 1   \n",
       "8361-LTMKD 2019-07-01  2019-11-01 00:00:00     0                 1   \n",
       "3186-AJIEK 2014-08-01                   No     2                 1   \n",
       "\n",
       "            PaymentMethod  MonthlyCharges  target  InternetService  \\\n",
       "customerID                                                           \n",
       "7590-VHVEG              2           29.85       0                0   \n",
       "5575-GNVDE              3           56.95       0                0   \n",
       "3668-QPYBK              3           53.85       1                0   \n",
       "7795-CFOCW              0           42.30       0                0   \n",
       "9237-HQITU              2           70.70       1                1   \n",
       "...                   ...             ...     ...              ...   \n",
       "6840-RESVB              3           84.80       0                0   \n",
       "2234-XADUH              1          103.20       0                1   \n",
       "4801-JZAZL              2           29.60       0                0   \n",
       "8361-LTMKD              3           74.40       1                1   \n",
       "3186-AJIEK              0          105.65       0                1   \n",
       "\n",
       "            OnlineSecurity  OnlineBackup  ...  gender  SeniorCitizen  Partner  \\\n",
       "customerID                                ...                                   \n",
       "7590-VHVEG               0             2  ...       0              0        1   \n",
       "5575-GNVDE               2             0  ...       1              0        0   \n",
       "3668-QPYBK               2             2  ...       1              0        0   \n",
       "7795-CFOCW               2             0  ...       1              0        0   \n",
       "9237-HQITU               0             0  ...       0              0        0   \n",
       "...                    ...           ...  ...     ...            ...      ...   \n",
       "6840-RESVB               2             0  ...       1              0        1   \n",
       "2234-XADUH               0             2  ...       0              0        1   \n",
       "4801-JZAZL               2             0  ...       0              0        1   \n",
       "8361-LTMKD               0             0  ...       1              1        1   \n",
       "3186-AJIEK               2             0  ...       1              0        0   \n",
       "\n",
       "            Dependents  MultipleLines  TotalMonths  MCH_group  TCH_group  \\\n",
       "customerID                                                                 \n",
       "7590-VHVEG           0              1          1.0          2          1   \n",
       "5575-GNVDE           0              0         34.0          3          3   \n",
       "3668-QPYBK           0              0          2.0          3          1   \n",
       "7795-CFOCW           0              1         45.0          3          3   \n",
       "9237-HQITU           0              0          2.0          4          1   \n",
       "...                ...            ...          ...        ...        ...   \n",
       "6840-RESVB           1              2         24.0          5          3   \n",
       "2234-XADUH           1              2         72.0          6          4   \n",
       "4801-JZAZL           1              1         11.0          2          1   \n",
       "8361-LTMKD           0              2          4.0          4          1   \n",
       "3186-AJIEK           0              0         66.0          6          4   \n",
       "\n",
       "            SA_group  UserType  \n",
       "customerID                      \n",
       "7590-VHVEG       2.0         1  \n",
       "5575-GNVDE       3.0         0  \n",
       "3668-QPYBK       3.0         0  \n",
       "7795-CFOCW       4.0         1  \n",
       "9237-HQITU       1.0         0  \n",
       "...              ...       ...  \n",
       "6840-RESVB       7.0         0  \n",
       "2234-XADUH       6.0         0  \n",
       "4801-JZAZL       2.0         1  \n",
       "8361-LTMKD       2.0         0  \n",
       "3186-AJIEK       6.0         0  \n",
       "\n",
       "[7043 rows x 24 columns]"
      ]
     },
     "execution_count": 82,
     "metadata": {},
     "output_type": "execute_result"
    }
   ],
   "source": [
    "telecom_coded"
   ]
  },
  {
   "cell_type": "markdown",
   "id": "5c3aecc5",
   "metadata": {},
   "source": [
    "I need to remove the EndDate and BeginDate leaks, otherwise it will be too easy for the model to find those who left."
   ]
  },
  {
   "cell_type": "code",
   "execution_count": 83,
   "id": "7a50bd6e",
   "metadata": {},
   "outputs": [],
   "source": [
    "telecom_coded = telecom_coded.drop(['EndDate'], axis=1)\n",
    "telecom_coded = telecom_coded.drop(['BeginDate'], axis=1)"
   ]
  },
  {
   "cell_type": "code",
   "execution_count": 84,
   "id": "53597fe7",
   "metadata": {},
   "outputs": [],
   "source": [
    "train, test = train_test_split(telecom_coded, shuffle=False, test_size=0.2)"
   ]
  },
  {
   "cell_type": "code",
   "execution_count": 85,
   "id": "5235aee7",
   "metadata": {},
   "outputs": [],
   "source": [
    "train_telecom_feature = train.drop('target', axis=1)\n",
    "train_telecom_target = train['target']\n",
    "test_telecom_feature = test.drop('target', axis=1)\n",
    "test_telecom_target = test['target']"
   ]
  },
  {
   "cell_type": "code",
   "execution_count": 86,
   "id": "946ce7d9",
   "metadata": {},
   "outputs": [
    {
     "data": {
      "text/html": [
       "<div>\n",
       "<style scoped>\n",
       "    .dataframe tbody tr th:only-of-type {\n",
       "        vertical-align: middle;\n",
       "    }\n",
       "\n",
       "    .dataframe tbody tr th {\n",
       "        vertical-align: top;\n",
       "    }\n",
       "\n",
       "    .dataframe thead th {\n",
       "        text-align: right;\n",
       "    }\n",
       "</style>\n",
       "<table border=\"1\" class=\"dataframe\">\n",
       "  <thead>\n",
       "    <tr style=\"text-align: right;\">\n",
       "      <th></th>\n",
       "      <th>Type</th>\n",
       "      <th>PaperlessBilling</th>\n",
       "      <th>PaymentMethod</th>\n",
       "      <th>MonthlyCharges</th>\n",
       "      <th>target</th>\n",
       "      <th>InternetService</th>\n",
       "      <th>OnlineSecurity</th>\n",
       "      <th>OnlineBackup</th>\n",
       "      <th>DeviceProtection</th>\n",
       "      <th>TechSupport</th>\n",
       "      <th>...</th>\n",
       "      <th>gender</th>\n",
       "      <th>SeniorCitizen</th>\n",
       "      <th>Partner</th>\n",
       "      <th>Dependents</th>\n",
       "      <th>MultipleLines</th>\n",
       "      <th>TotalMonths</th>\n",
       "      <th>MCH_group</th>\n",
       "      <th>TCH_group</th>\n",
       "      <th>SA_group</th>\n",
       "      <th>UserType</th>\n",
       "    </tr>\n",
       "    <tr>\n",
       "      <th>customerID</th>\n",
       "      <th></th>\n",
       "      <th></th>\n",
       "      <th></th>\n",
       "      <th></th>\n",
       "      <th></th>\n",
       "      <th></th>\n",
       "      <th></th>\n",
       "      <th></th>\n",
       "      <th></th>\n",
       "      <th></th>\n",
       "      <th></th>\n",
       "      <th></th>\n",
       "      <th></th>\n",
       "      <th></th>\n",
       "      <th></th>\n",
       "      <th></th>\n",
       "      <th></th>\n",
       "      <th></th>\n",
       "      <th></th>\n",
       "      <th></th>\n",
       "      <th></th>\n",
       "    </tr>\n",
       "  </thead>\n",
       "  <tbody>\n",
       "    <tr>\n",
       "      <th>7590-VHVEG</th>\n",
       "      <td>0</td>\n",
       "      <td>1</td>\n",
       "      <td>2</td>\n",
       "      <td>29.85</td>\n",
       "      <td>0</td>\n",
       "      <td>0</td>\n",
       "      <td>0</td>\n",
       "      <td>2</td>\n",
       "      <td>0</td>\n",
       "      <td>0</td>\n",
       "      <td>...</td>\n",
       "      <td>0</td>\n",
       "      <td>0</td>\n",
       "      <td>1</td>\n",
       "      <td>0</td>\n",
       "      <td>1</td>\n",
       "      <td>1.0</td>\n",
       "      <td>2</td>\n",
       "      <td>1</td>\n",
       "      <td>2.0</td>\n",
       "      <td>1</td>\n",
       "    </tr>\n",
       "    <tr>\n",
       "      <th>5575-GNVDE</th>\n",
       "      <td>1</td>\n",
       "      <td>0</td>\n",
       "      <td>3</td>\n",
       "      <td>56.95</td>\n",
       "      <td>0</td>\n",
       "      <td>0</td>\n",
       "      <td>2</td>\n",
       "      <td>0</td>\n",
       "      <td>2</td>\n",
       "      <td>0</td>\n",
       "      <td>...</td>\n",
       "      <td>1</td>\n",
       "      <td>0</td>\n",
       "      <td>0</td>\n",
       "      <td>0</td>\n",
       "      <td>0</td>\n",
       "      <td>34.0</td>\n",
       "      <td>3</td>\n",
       "      <td>3</td>\n",
       "      <td>3.0</td>\n",
       "      <td>0</td>\n",
       "    </tr>\n",
       "    <tr>\n",
       "      <th>3668-QPYBK</th>\n",
       "      <td>0</td>\n",
       "      <td>1</td>\n",
       "      <td>3</td>\n",
       "      <td>53.85</td>\n",
       "      <td>1</td>\n",
       "      <td>0</td>\n",
       "      <td>2</td>\n",
       "      <td>2</td>\n",
       "      <td>0</td>\n",
       "      <td>0</td>\n",
       "      <td>...</td>\n",
       "      <td>1</td>\n",
       "      <td>0</td>\n",
       "      <td>0</td>\n",
       "      <td>0</td>\n",
       "      <td>0</td>\n",
       "      <td>2.0</td>\n",
       "      <td>3</td>\n",
       "      <td>1</td>\n",
       "      <td>3.0</td>\n",
       "      <td>0</td>\n",
       "    </tr>\n",
       "    <tr>\n",
       "      <th>7795-CFOCW</th>\n",
       "      <td>1</td>\n",
       "      <td>0</td>\n",
       "      <td>0</td>\n",
       "      <td>42.30</td>\n",
       "      <td>0</td>\n",
       "      <td>0</td>\n",
       "      <td>2</td>\n",
       "      <td>0</td>\n",
       "      <td>2</td>\n",
       "      <td>2</td>\n",
       "      <td>...</td>\n",
       "      <td>1</td>\n",
       "      <td>0</td>\n",
       "      <td>0</td>\n",
       "      <td>0</td>\n",
       "      <td>1</td>\n",
       "      <td>45.0</td>\n",
       "      <td>3</td>\n",
       "      <td>3</td>\n",
       "      <td>4.0</td>\n",
       "      <td>1</td>\n",
       "    </tr>\n",
       "    <tr>\n",
       "      <th>9237-HQITU</th>\n",
       "      <td>0</td>\n",
       "      <td>1</td>\n",
       "      <td>2</td>\n",
       "      <td>70.70</td>\n",
       "      <td>1</td>\n",
       "      <td>1</td>\n",
       "      <td>0</td>\n",
       "      <td>0</td>\n",
       "      <td>0</td>\n",
       "      <td>0</td>\n",
       "      <td>...</td>\n",
       "      <td>0</td>\n",
       "      <td>0</td>\n",
       "      <td>0</td>\n",
       "      <td>0</td>\n",
       "      <td>0</td>\n",
       "      <td>2.0</td>\n",
       "      <td>4</td>\n",
       "      <td>1</td>\n",
       "      <td>1.0</td>\n",
       "      <td>0</td>\n",
       "    </tr>\n",
       "    <tr>\n",
       "      <th>...</th>\n",
       "      <td>...</td>\n",
       "      <td>...</td>\n",
       "      <td>...</td>\n",
       "      <td>...</td>\n",
       "      <td>...</td>\n",
       "      <td>...</td>\n",
       "      <td>...</td>\n",
       "      <td>...</td>\n",
       "      <td>...</td>\n",
       "      <td>...</td>\n",
       "      <td>...</td>\n",
       "      <td>...</td>\n",
       "      <td>...</td>\n",
       "      <td>...</td>\n",
       "      <td>...</td>\n",
       "      <td>...</td>\n",
       "      <td>...</td>\n",
       "      <td>...</td>\n",
       "      <td>...</td>\n",
       "      <td>...</td>\n",
       "      <td>...</td>\n",
       "    </tr>\n",
       "    <tr>\n",
       "      <th>6840-RESVB</th>\n",
       "      <td>1</td>\n",
       "      <td>1</td>\n",
       "      <td>3</td>\n",
       "      <td>84.80</td>\n",
       "      <td>0</td>\n",
       "      <td>0</td>\n",
       "      <td>2</td>\n",
       "      <td>0</td>\n",
       "      <td>2</td>\n",
       "      <td>2</td>\n",
       "      <td>...</td>\n",
       "      <td>1</td>\n",
       "      <td>0</td>\n",
       "      <td>1</td>\n",
       "      <td>1</td>\n",
       "      <td>2</td>\n",
       "      <td>24.0</td>\n",
       "      <td>5</td>\n",
       "      <td>3</td>\n",
       "      <td>7.0</td>\n",
       "      <td>0</td>\n",
       "    </tr>\n",
       "    <tr>\n",
       "      <th>2234-XADUH</th>\n",
       "      <td>1</td>\n",
       "      <td>1</td>\n",
       "      <td>1</td>\n",
       "      <td>103.20</td>\n",
       "      <td>0</td>\n",
       "      <td>1</td>\n",
       "      <td>0</td>\n",
       "      <td>2</td>\n",
       "      <td>2</td>\n",
       "      <td>0</td>\n",
       "      <td>...</td>\n",
       "      <td>0</td>\n",
       "      <td>0</td>\n",
       "      <td>1</td>\n",
       "      <td>1</td>\n",
       "      <td>2</td>\n",
       "      <td>72.0</td>\n",
       "      <td>6</td>\n",
       "      <td>4</td>\n",
       "      <td>6.0</td>\n",
       "      <td>0</td>\n",
       "    </tr>\n",
       "    <tr>\n",
       "      <th>4801-JZAZL</th>\n",
       "      <td>0</td>\n",
       "      <td>1</td>\n",
       "      <td>2</td>\n",
       "      <td>29.60</td>\n",
       "      <td>0</td>\n",
       "      <td>0</td>\n",
       "      <td>2</td>\n",
       "      <td>0</td>\n",
       "      <td>0</td>\n",
       "      <td>0</td>\n",
       "      <td>...</td>\n",
       "      <td>0</td>\n",
       "      <td>0</td>\n",
       "      <td>1</td>\n",
       "      <td>1</td>\n",
       "      <td>1</td>\n",
       "      <td>11.0</td>\n",
       "      <td>2</td>\n",
       "      <td>1</td>\n",
       "      <td>2.0</td>\n",
       "      <td>1</td>\n",
       "    </tr>\n",
       "    <tr>\n",
       "      <th>8361-LTMKD</th>\n",
       "      <td>0</td>\n",
       "      <td>1</td>\n",
       "      <td>3</td>\n",
       "      <td>74.40</td>\n",
       "      <td>1</td>\n",
       "      <td>1</td>\n",
       "      <td>0</td>\n",
       "      <td>0</td>\n",
       "      <td>0</td>\n",
       "      <td>0</td>\n",
       "      <td>...</td>\n",
       "      <td>1</td>\n",
       "      <td>1</td>\n",
       "      <td>1</td>\n",
       "      <td>0</td>\n",
       "      <td>2</td>\n",
       "      <td>4.0</td>\n",
       "      <td>4</td>\n",
       "      <td>1</td>\n",
       "      <td>2.0</td>\n",
       "      <td>0</td>\n",
       "    </tr>\n",
       "    <tr>\n",
       "      <th>3186-AJIEK</th>\n",
       "      <td>2</td>\n",
       "      <td>1</td>\n",
       "      <td>0</td>\n",
       "      <td>105.65</td>\n",
       "      <td>0</td>\n",
       "      <td>1</td>\n",
       "      <td>2</td>\n",
       "      <td>0</td>\n",
       "      <td>2</td>\n",
       "      <td>2</td>\n",
       "      <td>...</td>\n",
       "      <td>1</td>\n",
       "      <td>0</td>\n",
       "      <td>0</td>\n",
       "      <td>0</td>\n",
       "      <td>0</td>\n",
       "      <td>66.0</td>\n",
       "      <td>6</td>\n",
       "      <td>4</td>\n",
       "      <td>6.0</td>\n",
       "      <td>0</td>\n",
       "    </tr>\n",
       "  </tbody>\n",
       "</table>\n",
       "<p>7043 rows × 22 columns</p>\n",
       "</div>"
      ],
      "text/plain": [
       "            Type  PaperlessBilling  PaymentMethod  MonthlyCharges  target  \\\n",
       "customerID                                                                  \n",
       "7590-VHVEG     0                 1              2           29.85       0   \n",
       "5575-GNVDE     1                 0              3           56.95       0   \n",
       "3668-QPYBK     0                 1              3           53.85       1   \n",
       "7795-CFOCW     1                 0              0           42.30       0   \n",
       "9237-HQITU     0                 1              2           70.70       1   \n",
       "...          ...               ...            ...             ...     ...   \n",
       "6840-RESVB     1                 1              3           84.80       0   \n",
       "2234-XADUH     1                 1              1          103.20       0   \n",
       "4801-JZAZL     0                 1              2           29.60       0   \n",
       "8361-LTMKD     0                 1              3           74.40       1   \n",
       "3186-AJIEK     2                 1              0          105.65       0   \n",
       "\n",
       "            InternetService  OnlineSecurity  OnlineBackup  DeviceProtection  \\\n",
       "customerID                                                                    \n",
       "7590-VHVEG                0               0             2                 0   \n",
       "5575-GNVDE                0               2             0                 2   \n",
       "3668-QPYBK                0               2             2                 0   \n",
       "7795-CFOCW                0               2             0                 2   \n",
       "9237-HQITU                1               0             0                 0   \n",
       "...                     ...             ...           ...               ...   \n",
       "6840-RESVB                0               2             0                 2   \n",
       "2234-XADUH                1               0             2                 2   \n",
       "4801-JZAZL                0               2             0                 0   \n",
       "8361-LTMKD                1               0             0                 0   \n",
       "3186-AJIEK                1               2             0                 2   \n",
       "\n",
       "            TechSupport  ...  gender  SeniorCitizen  Partner  Dependents  \\\n",
       "customerID               ...                                               \n",
       "7590-VHVEG            0  ...       0              0        1           0   \n",
       "5575-GNVDE            0  ...       1              0        0           0   \n",
       "3668-QPYBK            0  ...       1              0        0           0   \n",
       "7795-CFOCW            2  ...       1              0        0           0   \n",
       "9237-HQITU            0  ...       0              0        0           0   \n",
       "...                 ...  ...     ...            ...      ...         ...   \n",
       "6840-RESVB            2  ...       1              0        1           1   \n",
       "2234-XADUH            0  ...       0              0        1           1   \n",
       "4801-JZAZL            0  ...       0              0        1           1   \n",
       "8361-LTMKD            0  ...       1              1        1           0   \n",
       "3186-AJIEK            2  ...       1              0        0           0   \n",
       "\n",
       "            MultipleLines  TotalMonths  MCH_group  TCH_group  SA_group  \\\n",
       "customerID                                                               \n",
       "7590-VHVEG              1          1.0          2          1       2.0   \n",
       "5575-GNVDE              0         34.0          3          3       3.0   \n",
       "3668-QPYBK              0          2.0          3          1       3.0   \n",
       "7795-CFOCW              1         45.0          3          3       4.0   \n",
       "9237-HQITU              0          2.0          4          1       1.0   \n",
       "...                   ...          ...        ...        ...       ...   \n",
       "6840-RESVB              2         24.0          5          3       7.0   \n",
       "2234-XADUH              2         72.0          6          4       6.0   \n",
       "4801-JZAZL              1         11.0          2          1       2.0   \n",
       "8361-LTMKD              2          4.0          4          1       2.0   \n",
       "3186-AJIEK              0         66.0          6          4       6.0   \n",
       "\n",
       "            UserType  \n",
       "customerID            \n",
       "7590-VHVEG         1  \n",
       "5575-GNVDE         0  \n",
       "3668-QPYBK         0  \n",
       "7795-CFOCW         1  \n",
       "9237-HQITU         0  \n",
       "...              ...  \n",
       "6840-RESVB         0  \n",
       "2234-XADUH         0  \n",
       "4801-JZAZL         1  \n",
       "8361-LTMKD         0  \n",
       "3186-AJIEK         0  \n",
       "\n",
       "[7043 rows x 22 columns]"
      ]
     },
     "execution_count": 86,
     "metadata": {},
     "output_type": "execute_result"
    }
   ],
   "source": [
    "telecom_coded"
   ]
  },
  {
   "cell_type": "markdown",
   "id": "270c9fc9",
   "metadata": {},
   "source": [
    "# RandomForestClassifier"
   ]
  },
  {
   "cell_type": "code",
   "execution_count": 87,
   "id": "5d30b992",
   "metadata": {},
   "outputs": [
    {
     "name": "stdout",
     "output_type": "stream",
     "text": [
      "Wall time: 6.69 s\n"
     ]
    },
    {
     "data": {
      "text/plain": [
       "{'max_depth': 47, 'n_estimators': 37}"
      ]
     },
     "execution_count": 87,
     "metadata": {},
     "output_type": "execute_result"
    }
   ],
   "source": [
    "%%time\n",
    "#tscv = TimeSeriesSplit()\n",
    "clf = RandomForestClassifier()\n",
    "parametrs = {'n_estimators': range (31, 41, 2), 'max_depth': range (41, 51, 2)}\n",
    "grid = GridSearchCV(clf, parametrs, cv=5, scoring='roc_auc', n_jobs = -1)\n",
    "grid.fit(train_telecom_feature, train_telecom_target)\n",
    "grid.best_params_"
   ]
  },
  {
   "cell_type": "code",
   "execution_count": 88,
   "id": "45e6d958",
   "metadata": {},
   "outputs": [
    {
     "name": "stdout",
     "output_type": "stream",
     "text": [
      "auc_roc_score 0.809\n",
      "accuracy 0.7899219304471257\n",
      "Wall time: 234 ms\n"
     ]
    }
   ],
   "source": [
    "%%time\n",
    "model = RandomForestClassifier(**grid.best_params_, random_state=12345)\n",
    "model.fit(train_telecom_feature, train_telecom_target)\n",
    "predictions = model.predict(test_telecom_feature)\n",
    "RFCauc = round(roc_auc_score(test_telecom_target, model.predict_proba(test_telecom_feature)[:, 1]), 3)\n",
    "RFCacc = accuracy_score(test_telecom_target, predictions)\n",
    "print('auc_roc_score',RFCauc)\n",
    "print('accuracy',RFCacc)"
   ]
  },
  {
   "cell_type": "markdown",
   "id": "b569c359",
   "metadata": {},
   "source": [
    "# XGBClassifier"
   ]
  },
  {
   "cell_type": "code",
   "execution_count": 89,
   "id": "76dadcef",
   "metadata": {},
   "outputs": [
    {
     "name": "stdout",
     "output_type": "stream",
     "text": [
      "[20:06:59] WARNING: D:\\bld\\xgboost-split_1631904903843\\work\\src\\learner.cc:1095: Starting in XGBoost 1.3.0, the default evaluation metric used with the objective 'binary:logistic' was changed from 'error' to 'logloss'. Explicitly set eval_metric if you'd like to restore the old behavior.\n",
      "Wall time: 1min 40s\n"
     ]
    },
    {
     "name": "stderr",
     "output_type": "stream",
     "text": [
      "C:\\conda\\lib\\site-packages\\xgboost\\sklearn.py:1146: UserWarning: The use of label encoder in XGBClassifier is deprecated and will be removed in a future release. To remove this warning, do the following: 1) Pass option use_label_encoder=False when constructing XGBClassifier object; and 2) Encode your labels (y) as integers starting with 0, i.e. 0, 1, 2, ..., [num_class - 1].\n",
      "  warnings.warn(label_encoder_deprecation_msg, UserWarning)\n"
     ]
    },
    {
     "data": {
      "text/plain": [
       "{'max_depth': 3, 'min_child_weight': 16, 'n_estimators': 21}"
      ]
     },
     "execution_count": 89,
     "metadata": {},
     "output_type": "execute_result"
    }
   ],
   "source": [
    "%%time\n",
    "#tscv = TimeSeriesSplit()\n",
    "clf = xgboost.XGBClassifier()\n",
    "parametrs = {'n_estimators': range (19, 29, 1), 'max_depth': range (1, 11, 1), 'min_child_weight':range(13, 21,1)}\n",
    "grid = GridSearchCV(clf, parametrs, cv=5, scoring='roc_auc', n_jobs = -1)\n",
    "grid.fit(train_telecom_feature, train_telecom_target)\n",
    "grid.best_params_"
   ]
  },
  {
   "cell_type": "code",
   "execution_count": 90,
   "id": "e56a123e",
   "metadata": {},
   "outputs": [
    {
     "name": "stdout",
     "output_type": "stream",
     "text": [
      "[20:07:00] WARNING: D:\\bld\\xgboost-split_1631904903843\\work\\src\\learner.cc:1095: Starting in XGBoost 1.3.0, the default evaluation metric used with the objective 'binary:logistic' was changed from 'error' to 'logloss'. Explicitly set eval_metric if you'd like to restore the old behavior.\n",
      "auc_roc_score 0.8462537148809707\n",
      "accuracy 0.7977288857345636\n",
      "Wall time: 50.2 ms\n"
     ]
    }
   ],
   "source": [
    "%%time\n",
    "model = xgboost.XGBClassifier(**grid.best_params_, random_state=12345)\n",
    "model.fit(train_telecom_feature, train_telecom_target)\n",
    "predictions = model.predict(test_telecom_feature)\n",
    "XGBauc = roc_auc_score(test_telecom_target, model.predict_proba(test_telecom_feature)[:, 1])\n",
    "XGBacc = accuracy_score(test_telecom_target, predictions)\n",
    "print('auc_roc_score',XGBauc)\n",
    "print('accuracy',XGBacc)"
   ]
  },
  {
   "cell_type": "markdown",
   "id": "23960d02",
   "metadata": {},
   "source": [
    "# LGBMClassifier"
   ]
  },
  {
   "cell_type": "code",
   "execution_count": 91,
   "id": "938bc063",
   "metadata": {},
   "outputs": [
    {
     "name": "stdout",
     "output_type": "stream",
     "text": [
      "Wall time: 1min 8s\n"
     ]
    },
    {
     "data": {
      "text/plain": [
       "{'max_depth': 8, 'min_child_weight': 49, 'n_estimators': 51}"
      ]
     },
     "execution_count": 91,
     "metadata": {},
     "output_type": "execute_result"
    }
   ],
   "source": [
    "%%time\n",
    "#tscv = TimeSeriesSplit()\n",
    "clf = lightgbm.LGBMClassifier()\n",
    "parametrs = {'n_estimators': range (50, 60, 1), 'max_depth': range (6, 16, 1), 'min_child_weight':range(46,56,1)}\n",
    "grid = GridSearchCV(clf, parametrs, cv=3, scoring='roc_auc', n_jobs = -1)\n",
    "grid.fit(train_telecom_feature, train_telecom_target)\n",
    "grid.best_params_"
   ]
  },
  {
   "cell_type": "code",
   "execution_count": 92,
   "id": "1e51cd8f",
   "metadata": {},
   "outputs": [
    {
     "name": "stdout",
     "output_type": "stream",
     "text": [
      "auc_roc_score 0.8516307178528754\n",
      "accuracy 0.7998580553584103\n",
      "Wall time: 55 ms\n"
     ]
    }
   ],
   "source": [
    "%%time\n",
    "model = lightgbm.LGBMClassifier(**grid.best_params_, random_state=12345)\n",
    "model.fit(train_telecom_feature, train_telecom_target)\n",
    "predictions = model.predict(test_telecom_feature)\n",
    "LGBMauc = roc_auc_score(test_telecom_target, model.predict_proba(test_telecom_feature)[:, 1])\n",
    "LGBMacc = accuracy_score(test_telecom_target, predictions)\n",
    "print('auc_roc_score',LGBMauc)\n",
    "print('accuracy',LGBMacc)"
   ]
  },
  {
   "cell_type": "markdown",
   "id": "41498b41",
   "metadata": {},
   "source": [
    "# Model conclusions"
   ]
  },
  {
   "cell_type": "code",
   "execution_count": 93,
   "id": "1dc141fb",
   "metadata": {},
   "outputs": [
    {
     "data": {
      "text/html": [
       "<div>\n",
       "<style scoped>\n",
       "    .dataframe tbody tr th:only-of-type {\n",
       "        vertical-align: middle;\n",
       "    }\n",
       "\n",
       "    .dataframe tbody tr th {\n",
       "        vertical-align: top;\n",
       "    }\n",
       "\n",
       "    .dataframe thead th {\n",
       "        text-align: right;\n",
       "    }\n",
       "</style>\n",
       "<table border=\"1\" class=\"dataframe\">\n",
       "  <thead>\n",
       "    <tr style=\"text-align: right;\">\n",
       "      <th></th>\n",
       "      <th>Model</th>\n",
       "      <th>roc_auc score</th>\n",
       "      <th>accuracy score</th>\n",
       "    </tr>\n",
       "  </thead>\n",
       "  <tbody>\n",
       "    <tr>\n",
       "      <th>0</th>\n",
       "      <td>RandomForestClassifier</td>\n",
       "      <td>0.809000</td>\n",
       "      <td>0.789922</td>\n",
       "    </tr>\n",
       "    <tr>\n",
       "      <th>1</th>\n",
       "      <td>XGBClassifier</td>\n",
       "      <td>0.846254</td>\n",
       "      <td>0.797729</td>\n",
       "    </tr>\n",
       "    <tr>\n",
       "      <th>2</th>\n",
       "      <td>LGBMClassifier</td>\n",
       "      <td>0.851631</td>\n",
       "      <td>0.799858</td>\n",
       "    </tr>\n",
       "  </tbody>\n",
       "</table>\n",
       "</div>"
      ],
      "text/plain": [
       "                    Model  roc_auc score  accuracy score\n",
       "0  RandomForestClassifier       0.809000        0.789922\n",
       "1           XGBClassifier       0.846254        0.797729\n",
       "2          LGBMClassifier       0.851631        0.799858"
      ]
     },
     "execution_count": 93,
     "metadata": {},
     "output_type": "execute_result"
    }
   ],
   "source": [
    "results = pd.DataFrame({'Model' : ['RandomForestClassifier', 'XGBClassifier', 'LGBMClassifier'], 'roc_auc score' : [RFCauc, XGBauc, LGBMauc], 'accuracy score' : [RFCacc, XGBacc, LGBMacc]})\n",
    "results"
   ]
  },
  {
   "cell_type": "markdown",
   "id": "d873d4cc",
   "metadata": {},
   "source": [
    "The best value of roc_auc (0.8517813556379382) on the considered parameters was achieved using the LGBMClassifier model. There is a model that accurately determines the outgoing customers. Recommendations for customer retention are noted in the IA findings."
   ]
  }
 ],
 "metadata": {
  "ExecuteTimeLog": [
   {
    "duration": 5372,
    "start_time": "2021-09-25T21:36:19.484Z"
   },
   {
    "duration": 5978,
    "start_time": "2021-09-25T21:36:54.959Z"
   },
   {
    "duration": 217,
    "start_time": "2021-09-25T21:37:32.203Z"
   },
   {
    "duration": 31,
    "start_time": "2021-09-25T21:38:10.612Z"
   },
   {
    "duration": 39,
    "start_time": "2021-09-25T21:38:11.381Z"
   },
   {
    "duration": 10,
    "start_time": "2021-09-25T21:38:11.736Z"
   },
   {
    "duration": 10,
    "start_time": "2021-09-25T21:38:11.971Z"
   },
   {
    "duration": 20,
    "start_time": "2021-09-25T21:38:12.401Z"
   },
   {
    "duration": 16,
    "start_time": "2021-09-25T21:38:12.572Z"
   },
   {
    "duration": 10,
    "start_time": "2021-09-25T21:38:12.743Z"
   },
   {
    "duration": 15,
    "start_time": "2021-09-25T21:38:13.069Z"
   },
   {
    "duration": 11,
    "start_time": "2021-09-25T21:38:13.227Z"
   },
   {
    "duration": 9,
    "start_time": "2021-09-25T21:38:13.559Z"
   },
   {
    "duration": 9,
    "start_time": "2021-09-25T21:38:13.727Z"
   },
   {
    "duration": 12,
    "start_time": "2021-09-25T21:38:14.267Z"
   },
   {
    "duration": 61,
    "start_time": "2021-09-25T21:38:14.660Z"
   },
   {
    "duration": 17,
    "start_time": "2021-09-25T21:38:14.833Z"
   },
   {
    "duration": 31,
    "start_time": "2021-09-25T21:38:15.404Z"
   },
   {
    "duration": 12,
    "start_time": "2021-09-25T21:38:15.925Z"
   },
   {
    "duration": 43,
    "start_time": "2021-09-25T21:38:16.087Z"
   },
   {
    "duration": 15,
    "start_time": "2021-09-25T21:38:16.409Z"
   },
   {
    "duration": 6,
    "start_time": "2021-09-25T21:38:16.577Z"
   },
   {
    "duration": 10,
    "start_time": "2021-09-25T21:38:16.750Z"
   },
   {
    "duration": 12,
    "start_time": "2021-09-25T21:38:16.925Z"
   },
   {
    "duration": 11,
    "start_time": "2021-09-25T21:38:17.258Z"
   },
   {
    "duration": 5,
    "start_time": "2021-09-25T21:38:17.424Z"
   },
   {
    "duration": 9,
    "start_time": "2021-09-25T21:38:17.585Z"
   },
   {
    "duration": 9,
    "start_time": "2021-09-25T21:38:17.920Z"
   },
   {
    "duration": 10,
    "start_time": "2021-09-25T21:38:18.050Z"
   },
   {
    "duration": 8,
    "start_time": "2021-09-25T21:38:18.273Z"
   },
   {
    "duration": 29,
    "start_time": "2021-09-25T21:38:19.205Z"
   },
   {
    "duration": 10,
    "start_time": "2021-09-25T21:38:19.554Z"
   },
   {
    "duration": 42,
    "start_time": "2021-09-25T21:38:19.725Z"
   },
   {
    "duration": 2100,
    "start_time": "2021-09-25T21:38:20.042Z"
   },
   {
    "duration": 1000,
    "start_time": "2021-09-25T21:38:21.145Z"
   },
   {
    "duration": 992,
    "start_time": "2021-09-25T21:38:21.154Z"
   },
   {
    "duration": 985,
    "start_time": "2021-09-25T21:38:21.162Z"
   },
   {
    "duration": 980,
    "start_time": "2021-09-25T21:38:21.169Z"
   },
   {
    "duration": 965,
    "start_time": "2021-09-25T21:38:21.185Z"
   },
   {
    "duration": 958,
    "start_time": "2021-09-25T21:38:21.194Z"
   },
   {
    "duration": 953,
    "start_time": "2021-09-25T21:38:21.200Z"
   },
   {
    "duration": 947,
    "start_time": "2021-09-25T21:38:21.207Z"
   },
   {
    "duration": 10,
    "start_time": "2021-09-25T21:38:23.025Z"
   },
   {
    "duration": 25,
    "start_time": "2021-09-25T21:38:23.200Z"
   },
   {
    "duration": 8,
    "start_time": "2021-09-25T21:38:23.374Z"
   },
   {
    "duration": 12,
    "start_time": "2021-09-25T21:38:29.726Z"
   },
   {
    "duration": 13,
    "start_time": "2021-09-25T21:38:30.373Z"
   },
   {
    "duration": 1532,
    "start_time": "2021-09-25T21:38:30.795Z"
   },
   {
    "duration": 1032,
    "start_time": "2021-09-25T21:38:31.302Z"
   },
   {
    "duration": 1024,
    "start_time": "2021-09-25T21:38:31.311Z"
   },
   {
    "duration": 12,
    "start_time": "2021-09-25T21:38:34.874Z"
   },
   {
    "duration": 9,
    "start_time": "2021-09-25T21:38:35.531Z"
   },
   {
    "duration": 1269,
    "start_time": "2021-09-25T21:38:39.063Z"
   },
   {
    "duration": 13,
    "start_time": "2021-09-25T21:38:43.646Z"
   },
   {
    "duration": 11,
    "start_time": "2021-09-25T21:38:43.912Z"
   },
   {
    "duration": 9,
    "start_time": "2021-09-25T21:38:45.370Z"
   },
   {
    "duration": 9,
    "start_time": "2021-09-25T21:38:46.139Z"
   },
   {
    "duration": 8,
    "start_time": "2021-09-25T21:38:46.353Z"
   },
   {
    "duration": 1040,
    "start_time": "2021-09-25T21:38:48.281Z"
   },
   {
    "duration": 8,
    "start_time": "2021-09-25T21:38:52.767Z"
   },
   {
    "duration": 624,
    "start_time": "2021-09-25T21:38:53.505Z"
   },
   {
    "duration": 15,
    "start_time": "2021-09-25T21:38:54.925Z"
   },
   {
    "duration": 1247,
    "start_time": "2021-09-25T21:38:57.411Z"
   },
   {
    "duration": 16,
    "start_time": "2021-09-25T21:39:02.159Z"
   },
   {
    "duration": 1142,
    "start_time": "2021-09-25T21:39:04.078Z"
   },
   {
    "duration": 1029,
    "start_time": "2021-09-25T21:39:04.195Z"
   },
   {
    "duration": 15,
    "start_time": "2021-09-25T21:39:09.644Z"
   },
   {
    "duration": 712,
    "start_time": "2021-09-25T21:39:10.627Z"
   },
   {
    "duration": 648,
    "start_time": "2021-09-25T21:39:15.407Z"
   },
   {
    "duration": 23,
    "start_time": "2021-09-25T21:39:18.000Z"
   },
   {
    "duration": 1202,
    "start_time": "2021-09-25T21:39:18.845Z"
   },
   {
    "duration": 77,
    "start_time": "2021-09-25T21:39:20.049Z"
   },
   {
    "duration": 7,
    "start_time": "2021-09-25T21:39:20.133Z"
   },
   {
    "duration": 79,
    "start_time": "2021-09-25T21:39:20.143Z"
   },
   {
    "duration": 1110,
    "start_time": "2021-09-25T21:39:21.437Z"
   },
   {
    "duration": 9,
    "start_time": "2021-09-25T21:39:22.549Z"
   },
   {
    "duration": 10,
    "start_time": "2021-09-25T21:39:22.753Z"
   },
   {
    "duration": 657,
    "start_time": "2021-09-25T21:39:23.290Z"
   },
   {
    "duration": 1171,
    "start_time": "2021-09-25T21:39:23.949Z"
   },
   {
    "duration": 10,
    "start_time": "2021-09-25T21:39:30.753Z"
   },
   {
    "duration": 2187,
    "start_time": "2021-09-25T21:39:31.466Z"
   },
   {
    "duration": 79,
    "start_time": "2021-09-25T21:39:36.440Z"
   },
   {
    "duration": 1101,
    "start_time": "2021-09-25T21:39:37.633Z"
   },
   {
    "duration": 26,
    "start_time": "2021-09-25T21:39:44.394Z"
   },
   {
    "duration": 1045,
    "start_time": "2021-09-25T21:39:44.705Z"
   },
   {
    "duration": 7,
    "start_time": "2021-09-25T21:39:45.821Z"
   },
   {
    "duration": 11443,
    "start_time": "2021-09-25T21:39:46.006Z"
   },
   {
    "duration": 532,
    "start_time": "2021-09-25T21:40:06.214Z"
   },
   {
    "duration": 34,
    "start_time": "2021-09-25T21:40:09.282Z"
   },
   {
    "duration": 8,
    "start_time": "2021-09-25T21:40:10.020Z"
   },
   {
    "duration": 1846,
    "start_time": "2021-09-25T21:40:11.695Z"
   },
   {
    "duration": 4,
    "start_time": "2021-09-25T21:40:21.096Z"
   },
   {
    "duration": 30,
    "start_time": "2021-09-25T21:40:21.586Z"
   },
   {
    "duration": 93,
    "start_time": "2021-09-25T21:40:22.962Z"
   },
   {
    "duration": 81,
    "start_time": "2021-09-25T21:40:23.660Z"
   },
   {
    "duration": 13,
    "start_time": "2021-09-25T21:40:25.408Z"
   },
   {
    "duration": 76,
    "start_time": "2021-09-25T21:40:25.858Z"
   },
   {
    "duration": 7,
    "start_time": "2021-09-25T21:40:26.082Z"
   },
   {
    "duration": 9,
    "start_time": "2021-09-25T21:40:26.247Z"
   },
   {
    "duration": 30073,
    "start_time": "2021-09-25T21:40:27.047Z"
   },
   {
    "duration": 601,
    "start_time": "2021-09-25T21:40:57.126Z"
   },
   {
    "duration": 82318,
    "start_time": "2021-09-25T21:41:21.705Z"
   },
   {
    "duration": 3133,
    "start_time": "2021-09-25T21:42:44.027Z"
   },
   {
    "duration": 18030,
    "start_time": "2021-09-25T21:42:47.220Z"
   },
   {
    "duration": 381,
    "start_time": "2021-09-25T21:43:05.253Z"
   },
   {
    "duration": 87,
    "start_time": "2021-09-25T21:43:05.637Z"
   },
   {
    "duration": 100,
    "start_time": "2021-09-25T21:43:05.727Z"
   },
   {
    "duration": 81,
    "start_time": "2021-09-25T22:22:03.061Z"
   }
  ],
  "kernelspec": {
   "display_name": "Python 3",
   "language": "python",
   "name": "python3"
  },
  "language_info": {
   "codemirror_mode": {
    "name": "ipython",
    "version": 3
   },
   "file_extension": ".py",
   "mimetype": "text/x-python",
   "name": "python",
   "nbconvert_exporter": "python",
   "pygments_lexer": "ipython3",
   "version": "3.8.8"
  },
  "toc": {
   "base_numbering": 1,
   "nav_menu": {},
   "number_sections": true,
   "sideBar": true,
   "skip_h1_title": true,
   "title_cell": "Table of Contents",
   "title_sidebar": "Contents",
   "toc_cell": false,
   "toc_position": {},
   "toc_section_display": true,
   "toc_window_display": false
  }
 },
 "nbformat": 4,
 "nbformat_minor": 5
}
